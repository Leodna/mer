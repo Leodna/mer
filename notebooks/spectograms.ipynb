{
 "cells": [
  {
   "cell_type": "code",
   "execution_count": 1,
   "metadata": {},
   "outputs": [],
   "source": [
    "import os\n",
    "import pandas as pd\n",
    "import numpy as np\n",
    "\n",
    "from dotenv import load_dotenv"
   ]
  },
  {
   "cell_type": "code",
   "execution_count": 2,
   "metadata": {},
   "outputs": [
    {
     "data": {
      "text/plain": [
       "True"
      ]
     },
     "execution_count": 2,
     "metadata": {},
     "output_type": "execute_result"
    }
   ],
   "source": [
    "load_dotenv()"
   ]
  },
  {
   "cell_type": "code",
   "execution_count": 8,
   "metadata": {},
   "outputs": [],
   "source": [
    "AUDIO_DIR = os.getenv('PMEMO_AUDIO')\n",
    "aux_dir = os.getenv('PMEMO_META')\n",
    "pmemo_metadata_dir = f\"{aux_dir.split('.')[0]}_total.csv\""
   ]
  },
  {
   "cell_type": "code",
   "execution_count": 9,
   "metadata": {},
   "outputs": [
    {
     "name": "stdout",
     "output_type": "stream",
     "text": [
      "El directorio de audios existe\n",
      "El archivo de metada existe\n"
     ]
    }
   ],
   "source": [
    "#Comprobar que los archivos existan\n",
    "\n",
    "if os.path.exists(AUDIO_DIR):\n",
    "    print(\"El directorio de audios existe\")\n",
    "else:\n",
    "    print(\"El directorio de audios no existe\")\n",
    "    \n",
    "if os.path.exists(pmemo_metadata_dir):\n",
    "    print(\"El archivo de metada existe\")\n",
    "else:\n",
    "    print(\"El archivo de metada no existe\")"
   ]
  },
  {
   "cell_type": "code",
   "execution_count": 10,
   "metadata": {},
   "outputs": [
    {
     "name": "stdout",
     "output_type": "stream",
     "text": [
      "<class 'pandas.core.frame.DataFrame'>\n",
      "RangeIndex: 767 entries, 0 to 766\n",
      "Data columns (total 9 columns):\n",
      " #   Column             Non-Null Count  Dtype  \n",
      "---  ------             --------------  -----  \n",
      " 0   Unnamed: 0         767 non-null    int64  \n",
      " 1   musicId            767 non-null    int64  \n",
      " 2   fileName           767 non-null    object \n",
      " 3   title              767 non-null    object \n",
      " 4   artist             767 non-null    object \n",
      " 5   album              760 non-null    object \n",
      " 6   duration           767 non-null    float64\n",
      " 7   chorus_start_time  767 non-null    object \n",
      " 8   chorus_end_time    767 non-null    object \n",
      "dtypes: float64(1), int64(2), object(6)\n",
      "memory usage: 54.1+ KB\n"
     ]
    }
   ],
   "source": [
    "pmemo_metadata = pd.read_csv(pmemo_metadata_dir)\n",
    "pmemo_metadata.info()"
   ]
  },
  {
   "cell_type": "code",
   "execution_count": 12,
   "metadata": {},
   "outputs": [
    {
     "name": "stdout",
     "output_type": "stream",
     "text": [
      "el archivo 1.mp3 existe\n"
     ]
    }
   ],
   "source": [
    "audios_list = os.listdir(AUDIO_DIR)\n",
    "#if os.path.exists(os.path.join(AUDIO_DIR,\n",
    "#                               audios_list[0])):\n",
    "#    print(f\"el archivo {audios_list[0]} existe\")"
   ]
  }
 ],
 "metadata": {
  "kernelspec": {
   "display_name": "mirtools",
   "language": "python",
   "name": "python3"
  },
  "language_info": {
   "codemirror_mode": {
    "name": "ipython",
    "version": 3
   },
   "file_extension": ".py",
   "mimetype": "text/x-python",
   "name": "python",
   "nbconvert_exporter": "python",
   "pygments_lexer": "ipython3",
   "version": "3.8.19"
  }
 },
 "nbformat": 4,
 "nbformat_minor": 2
}
