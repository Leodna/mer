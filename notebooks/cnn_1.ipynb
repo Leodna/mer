{
 "cells": [
  {
   "cell_type": "code",
   "execution_count": 1,
   "metadata": {},
   "outputs": [],
   "source": [
    "import os\n",
    "import pandas as pd\n",
    "import pickle\n",
    "import numpy as np\n",
    "import matplotlib.pylab as plt\n",
    "import tensorflow as tf\n",
    "\n",
    "import librosa\n",
    "import librosa.display\n",
    "\n",
    "from dotenv import load_dotenv\n",
    "from sklearn.model_selection import train_test_split"
   ]
  },
  {
   "cell_type": "code",
   "execution_count": 2,
   "metadata": {},
   "outputs": [
    {
     "data": {
      "text/plain": [
       "True"
      ]
     },
     "execution_count": 2,
     "metadata": {},
     "output_type": "execute_result"
    }
   ],
   "source": [
    "load_dotenv()"
   ]
  },
  {
   "cell_type": "markdown",
   "metadata": {},
   "source": [
    "# Preparar las etiquetas"
   ]
  },
  {
   "cell_type": "markdown",
   "metadata": {},
   "source": [
    "Cargar archivo de anotaciones y comprobar que existe"
   ]
  },
  {
   "cell_type": "code",
   "execution_count": 3,
   "metadata": {},
   "outputs": [
    {
     "name": "stdout",
     "output_type": "stream",
     "text": [
      "El archivo existe\n"
     ]
    },
    {
     "data": {
      "text/html": [
       "<div>\n",
       "<style scoped>\n",
       "    .dataframe tbody tr th:only-of-type {\n",
       "        vertical-align: middle;\n",
       "    }\n",
       "\n",
       "    .dataframe tbody tr th {\n",
       "        vertical-align: top;\n",
       "    }\n",
       "\n",
       "    .dataframe thead th {\n",
       "        text-align: right;\n",
       "    }\n",
       "</style>\n",
       "<table border=\"1\" class=\"dataframe\">\n",
       "  <thead>\n",
       "    <tr style=\"text-align: right;\">\n",
       "      <th></th>\n",
       "      <th>musicId</th>\n",
       "      <th>Arousal(mean)</th>\n",
       "      <th>Valence(mean)</th>\n",
       "    </tr>\n",
       "  </thead>\n",
       "  <tbody>\n",
       "    <tr>\n",
       "      <th>0</th>\n",
       "      <td>1</td>\n",
       "      <td>0.4000</td>\n",
       "      <td>0.5750</td>\n",
       "    </tr>\n",
       "    <tr>\n",
       "      <th>1</th>\n",
       "      <td>4</td>\n",
       "      <td>0.2625</td>\n",
       "      <td>0.2875</td>\n",
       "    </tr>\n",
       "    <tr>\n",
       "      <th>2</th>\n",
       "      <td>5</td>\n",
       "      <td>0.1500</td>\n",
       "      <td>0.2000</td>\n",
       "    </tr>\n",
       "    <tr>\n",
       "      <th>3</th>\n",
       "      <td>6</td>\n",
       "      <td>0.5125</td>\n",
       "      <td>0.3500</td>\n",
       "    </tr>\n",
       "    <tr>\n",
       "      <th>4</th>\n",
       "      <td>7</td>\n",
       "      <td>0.7000</td>\n",
       "      <td>0.7250</td>\n",
       "    </tr>\n",
       "  </tbody>\n",
       "</table>\n",
       "</div>"
      ],
      "text/plain": [
       "   musicId  Arousal(mean)  Valence(mean)\n",
       "0        1         0.4000         0.5750\n",
       "1        4         0.2625         0.2875\n",
       "2        5         0.1500         0.2000\n",
       "3        6         0.5125         0.3500\n",
       "4        7         0.7000         0.7250"
      ]
     },
     "execution_count": 3,
     "metadata": {},
     "output_type": "execute_result"
    }
   ],
   "source": [
    "anot = os.getenv('PMEMO_ANOTATIONS')\n",
    "stat_anot_file = os.path.join(anot,'static_annotations.csv')\n",
    "\n",
    "if os.path.exists(stat_anot_file):\n",
    "    print(\"El archivo existe\")\n",
    "else:\n",
    "    print(\"No hay no existe\")\n",
    "    \n",
    "anotaciones_df = pd.read_csv(stat_anot_file)\n",
    "anotaciones_df.head(5)"
   ]
  },
  {
   "cell_type": "code",
   "execution_count": 4,
   "metadata": {},
   "outputs": [
    {
     "name": "stdout",
     "output_type": "stream",
     "text": [
      "[[0.4    0.575 ]\n",
      " [0.2625 0.2875]\n",
      " [0.15   0.2   ]\n",
      " ...\n",
      " [0.7125 0.6625]\n",
      " [0.875  0.775 ]\n",
      " [0.6625 0.575 ]]\n"
     ]
    }
   ],
   "source": [
    "labels = anotaciones_df[['Arousal(mean)','Valence(mean)']].values\n",
    "print(labels)"
   ]
  },
  {
   "cell_type": "markdown",
   "metadata": {},
   "source": [
    "# Preparar los espectrogramas"
   ]
  },
  {
   "cell_type": "markdown",
   "metadata": {},
   "source": [
    "Cargar los espectrogramas ajustados"
   ]
  },
  {
   "cell_type": "code",
   "execution_count": 5,
   "metadata": {},
   "outputs": [
    {
     "name": "stdout",
     "output_type": "stream",
     "text": [
      "Todo bien\n"
     ]
    }
   ],
   "source": [
    "ASSETS_DIR = os.getenv('ASSETS_DIR')\n",
    "spect_file = 'padded_spectrograms.pkl'\n",
    "spect_dir = os.path.join(ASSETS_DIR,spect_file)\n",
    "\n",
    "#Comprobar que existe el archivo\n",
    "if os.path.exists(spect_dir):\n",
    "    with open (spect_dir,'rb') as f:\n",
    "        spectrograms = pickle.load(f)\n",
    "    print('Todo bien')\n",
    "else:\n",
    "    print('El archivo de espectrogramas no existe')\n",
    "    spectrograms = None\n",
    "    "
   ]
  },
  {
   "cell_type": "code",
   "execution_count": 6,
   "metadata": {},
   "outputs": [
    {
     "name": "stdout",
     "output_type": "stream",
     "text": [
      "<class 'numpy.ndarray'>\n",
      "<class 'numpy.ndarray'>\n",
      "(1025, 1671)\n"
     ]
    }
   ],
   "source": [
    "spectrograms = np.array(spectrograms)\n",
    "print(type(spectrograms))\n",
    "print(type(spectrograms[0]))\n",
    "print(spectrograms[0].shape)"
   ]
  },
  {
   "cell_type": "code",
   "execution_count": 7,
   "metadata": {},
   "outputs": [
    {
     "name": "stdout",
     "output_type": "stream",
     "text": [
      "(767, 1025, 1671, 1)\n",
      "(1025, 1671, 1)\n"
     ]
    }
   ],
   "source": [
    "spectrograms = np.expand_dims(spectrograms, axis=-1)\n",
    "print(spectrograms.shape)\n",
    "print(spectrograms[0].shape)"
   ]
  },
  {
   "cell_type": "markdown",
   "metadata": {},
   "source": [
    "# Dividir los datos"
   ]
  },
  {
   "cell_type": "code",
   "execution_count": 8,
   "metadata": {},
   "outputs": [],
   "source": [
    "#Entrenamiento y pruebas\n",
    "X_train,X_test,y_train,y_test = train_test_split( spectrograms,\n",
    "                                                 labels,\n",
    "                                                 test_size=0.2,\n",
    "                                                 random_state=83)\n",
    "#Entrenamiento y validación\n",
    "X_train,X_val, y_train,y_val =  train_test_split( X_train,\n",
    "                                                  y_train,\n",
    "                                                  test_size=0.2,\n",
    "                                                  random_state=83)"
   ]
  },
  {
   "cell_type": "markdown",
   "metadata": {},
   "source": [
    "# Normalizar?"
   ]
  },
  {
   "cell_type": "code",
   "execution_count": null,
   "metadata": {},
   "outputs": [],
   "source": [
    "# Asumiendo que `spectrograms_array` es tu array de espectrogramas\n",
    "print(\"Valor mínimo:\", np.min(spectrograms))\n",
    "print(\"Valor máximo:\", np.max(spectrograms))\n",
    "print(\"Media:\", np.mean(spectrograms))\n",
    "print(\"Desviación estándar:\", np.std(spectrograms))"
   ]
  },
  {
   "cell_type": "code",
   "execution_count": null,
   "metadata": {},
   "outputs": [],
   "source": [
    "# Aplana el array para facilitar la visualización\n",
    "values = spectrograms.flatten()\n",
    "\n",
    "plt.hist(values, bins=50)\n",
    "plt.title('Histograma de Valores de Espectrogramas')\n",
    "plt.xlabel('Valor')\n",
    "plt.ylabel('Frecuencia')\n",
    "plt.show()"
   ]
  },
  {
   "cell_type": "code",
   "execution_count": null,
   "metadata": {},
   "outputs": [],
   "source": [
    "# Obtener un resumen estadístico\n",
    "stats = {\n",
    "    'Mínimo': np.min(values),\n",
    "    'Máximo': np.max(values),\n",
    "    'Media': np.mean(values),\n",
    "    'Desviación Estándar': np.std(values),\n",
    "    '25º Percentil': np.percentile(values, 25),\n",
    "    '50º Percentil (Mediana)': np.percentile(values, 50),\n",
    "    '75º Percentil': np.percentile(values, 75)\n",
    "}\n",
    "\n",
    "for key, value in stats.items():\n",
    "    print(f'{key}: {value}')"
   ]
  },
  {
   "cell_type": "code",
   "execution_count": 9,
   "metadata": {},
   "outputs": [],
   "source": [
    "# Normalizar los datos\n",
    "X_train_norm = X_train / np.max(X_train)\n",
    "X_val_norm = X_val / np.max(X_val)\n",
    "X_test_norm = X_test / np.max(X_test)"
   ]
  },
  {
   "cell_type": "code",
   "execution_count": null,
   "metadata": {},
   "outputs": [],
   "source": [
    "# Graficar el espectrograma de la primer canción\n",
    "aux_spec = np.squeeze(X_train[1])\n",
    "\n",
    "\n",
    "#Visualizar\n",
    "fig,ax = plt.subplots(figsize=(10,5))\n",
    "\n",
    "img = librosa.display.specshow(aux_spec,\n",
    "                               x_axis='time',\n",
    "                               y_axis='log',\n",
    "                               ax=ax)\n",
    "\n",
    "ax.set_title('Espectrograma de la primer canción',fontsize=(20))\n",
    "fig.colorbar(img,ax=ax,format=f'%0.2f')\n",
    "\n",
    "plt.show()"
   ]
  },
  {
   "cell_type": "code",
   "execution_count": null,
   "metadata": {},
   "outputs": [],
   "source": [
    "# Graficar el espectrograma de la primer canción pero normalizada\n",
    "espectrograma_normalizado = np.squeeze(X_train_norm[1])\n",
    "# Visualizar el espectrograma normalizado\n",
    "fig,ax = plt.subplots(figsize=(10,5))\n",
    "\n",
    "img = librosa.display.specshow(espectrograma_normalizado,\n",
    "                               x_axis='time',\n",
    "                               y_axis='log',\n",
    "                               ax=ax)\n",
    "ax.set_title('Espectrograma de la primer canción normalizada',fontsize=(20))\n",
    "fig.colorbar(img, ax=ax, format=f'%0.2f')\n",
    "plt.show()"
   ]
  },
  {
   "cell_type": "code",
   "execution_count": 10,
   "metadata": {},
   "outputs": [],
   "source": [
    "# Normalizar los datos\n",
    "X_train = X_train_norm\n",
    "X_val = X_val_norm\n",
    "X_test = X_test_norm"
   ]
  },
  {
   "cell_type": "markdown",
   "metadata": {},
   "source": [
    "## Guardar datos procesados"
   ]
  },
  {
   "cell_type": "code",
   "execution_count": 11,
   "metadata": {},
   "outputs": [],
   "source": [
    "import h5py"
   ]
  },
  {
   "cell_type": "code",
   "execution_count": 12,
   "metadata": {},
   "outputs": [],
   "source": [
    "# Guardar los datos en un archivo .h5\n",
    "DATOS_DIR = os.path.join(ASSETS_DIR,'processed_data.h5')\n",
    "\n",
    "with h5py.File(DATOS_DIR, 'w') as hf:\n",
    "    hf.create_dataset('X_train', data=X_train)\n",
    "    hf.create_dataset('X_test', data=X_test)\n",
    "    hf.create_dataset('X_val', data=X_val)\n",
    "    hf.create_dataset('y_train', data=y_train)\n",
    "    hf.create_dataset('y_test', data=y_test)\n",
    "    hf.create_dataset('y_val', data=y_val)"
   ]
  },
  {
   "cell_type": "markdown",
   "metadata": {},
   "source": [
    "## Cargar datos procesados"
   ]
  },
  {
   "cell_type": "code",
   "execution_count": 8,
   "metadata": {},
   "outputs": [],
   "source": [
    "# Cargar los datos desde un archivo .h5\n",
    "DATOS_DIR = os.path.join(ASSETS_DIR,'processed_data.h5')\n",
    "with h5py.File(DATOS_DIR, 'r') as hf:\n",
    "    X_train = hf['X_train'][:]\n",
    "    X_test = hf['X_test'][:]\n",
    "    X_val = hf['X_val'][:]\n",
    "    y_train = hf['y_train'][:]\n",
    "    y_test = hf['y_test'][:]\n",
    "    y_val = hf['y_val'][:]"
   ]
  },
  {
   "cell_type": "markdown",
   "metadata": {},
   "source": [
    "# CNN"
   ]
  },
  {
   "cell_type": "code",
   "execution_count": 29,
   "metadata": {},
   "outputs": [],
   "source": [
    "import tensorflow as tf\n",
    "from sklearn.model_selection import train_test_split\n",
    "from tensorflow.keras.models import Sequential\n",
    "from tensorflow.keras.layers import Conv2D, MaxPooling2D, Flatten, Dense, Dropout, BatchNormalization, InputLayer\n",
    "from tensorflow.keras.optimizers import Adam"
   ]
  },
  {
   "cell_type": "code",
   "execution_count": null,
   "metadata": {},
   "outputs": [],
   "source": [
    "# Paso 3: Definir el modelo CNN\n",
    "model = Sequential([\n",
    "    InputLayer(input_shape=(1025, 1671, 1)),\n",
    "    \n",
    "    # Primera capa convolucional\n",
    "    Conv2D(32, (3, 3), activation='relu', padding='same'),\n",
    "    MaxPooling2D((2, 2)),\n",
    "    BatchNormalization(),\n",
    "    \n",
    "    # Segunda capa convolucional\n",
    "    Conv2D(64, (3, 3), activation='relu', padding='same'),\n",
    "    MaxPooling2D((2, 2)),\n",
    "    BatchNormalization(),\n",
    "    \n",
    "    # Tercera capa convolucional\n",
    "    Conv2D(128, (3, 3), activation='relu', padding='same'),\n",
    "    MaxPooling2D((2, 2)),\n",
    "    BatchNormalization(),\n",
    "    \n",
    "    # Cuarta capa convolucional (opcional)\n",
    "    Conv2D(256, (3, 3), activation='relu', padding='same'),\n",
    "    MaxPooling2D((2, 2)),\n",
    "    BatchNormalization(),\n",
    "    \n",
    "    # Aplanar y pasar a capas densas\n",
    "    Flatten(),\n",
    "    Dense(128, activation='relu'),\n",
    "    Dropout(0.5),\n",
    "    Dense(64, activation='relu'),\n",
    "    \n",
    "    # Capa de salida con dos neuronas para valence y arousal\n",
    "    Dense(2, activation='linear')  # Predice los dos valores continuos\n",
    "])\n",
    "\n",
    "# Paso 4: Compilar el modelo\n",
    "model.compile(optimizer=Adam(learning_rate=0.001), loss='mse', metrics=['mae'])\n",
    "\n",
    "# Mostrar la arquitectura del modelo\n",
    "model.summary()\n",
    "\n",
    "# Paso 5: Entrenar el modelo\n",
    "history = model.fit(X_train, y_train, epochs=20, batch_size=16, validation_data=(X_val, y_val))\n",
    "\n",
    "# Evaluar el modelo\n",
    "loss, mae = model.evaluate(X_val, y_val)\n",
    "print(f\"Validation Loss: {loss}, Validation MAE: {mae}\")"
   ]
  }
 ],
 "metadata": {
  "kernelspec": {
   "display_name": "mirtools",
   "language": "python",
   "name": "python3"
  },
  "language_info": {
   "codemirror_mode": {
    "name": "ipython",
    "version": 3
   },
   "file_extension": ".py",
   "mimetype": "text/x-python",
   "name": "python",
   "nbconvert_exporter": "python",
   "pygments_lexer": "ipython3",
   "version": "3.8.19"
  }
 },
 "nbformat": 4,
 "nbformat_minor": 2
}
