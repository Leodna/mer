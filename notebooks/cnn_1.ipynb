{
 "cells": [
  {
   "cell_type": "code",
   "execution_count": 1,
   "metadata": {},
   "outputs": [
    {
     "name": "stderr",
     "output_type": "stream",
     "text": [
      "2024-09-13 17:10:04.175246: I tensorflow/tsl/cuda/cudart_stub.cc:28] Could not find cuda drivers on your machine, GPU will not be used.\n",
      "2024-09-13 17:10:04.204300: I tensorflow/tsl/cuda/cudart_stub.cc:28] Could not find cuda drivers on your machine, GPU will not be used.\n",
      "2024-09-13 17:10:04.204914: I tensorflow/core/platform/cpu_feature_guard.cc:182] This TensorFlow binary is optimized to use available CPU instructions in performance-critical operations.\n",
      "To enable the following instructions: AVX2 FMA, in other operations, rebuild TensorFlow with the appropriate compiler flags.\n",
      "2024-09-13 17:10:04.775221: W tensorflow/compiler/tf2tensorrt/utils/py_utils.cc:38] TF-TRT Warning: Could not find TensorRT\n"
     ]
    }
   ],
   "source": [
    "import os\n",
    "import pandas as pd\n",
    "import pickle\n",
    "import numpy as np\n",
    "import matplotlib.pylab as plt\n",
    "import tensorflow as tf\n",
    "\n",
    "import librosa\n",
    "import librosa.display\n",
    "\n",
    "from dotenv import load_dotenv\n",
    "from sklearn.model_selection import train_test_split\n",
    "from my_functions.my_fun import *\n",
    "from my_functions.my_models import *\n",
    "from my_functions.My_nn import My_nn"
   ]
  },
  {
   "cell_type": "code",
   "execution_count": 2,
   "metadata": {},
   "outputs": [],
   "source": [
    "load_dotenv()\n",
    "ASSETS_DIR = os.getenv('ASSETS_DIR')"
   ]
  },
  {
   "cell_type": "markdown",
   "metadata": {},
   "source": [
    "# Preparar las etiquetas"
   ]
  },
  {
   "cell_type": "markdown",
   "metadata": {},
   "source": [
    "Cargar archivo de anotaciones y comprobar que existe"
   ]
  },
  {
   "cell_type": "code",
   "execution_count": null,
   "metadata": {},
   "outputs": [],
   "source": [
    "anot = os.getenv('PMEMO_ANOTATIONS')\n",
    "stat_anot_file = os.path.join(anot,'static_annotations.csv')\n",
    "\n",
    "if os.path.exists(stat_anot_file):\n",
    "    print(\"El archivo existe\")\n",
    "else:\n",
    "    print(\"No hay no existe\")\n",
    "    \n",
    "anotaciones_df = pd.read_csv(stat_anot_file)\n",
    "anotaciones_df.head(5)"
   ]
  },
  {
   "cell_type": "code",
   "execution_count": null,
   "metadata": {},
   "outputs": [],
   "source": [
    "labels = anotaciones_df[['Arousal(mean)','Valence(mean)']].values\n",
    "print(labels)"
   ]
  },
  {
   "cell_type": "markdown",
   "metadata": {},
   "source": [
    "# Preparar los espectrogramas"
   ]
  },
  {
   "cell_type": "markdown",
   "metadata": {},
   "source": [
    "Cargar los espectrogramas ajustados"
   ]
  },
  {
   "cell_type": "code",
   "execution_count": 5,
   "metadata": {},
   "outputs": [],
   "source": [
    "spectrograms = load_spectrograms(filename='spectrograms_down_padd')"
   ]
  },
  {
   "cell_type": "code",
   "execution_count": null,
   "metadata": {},
   "outputs": [],
   "source": [
    "spectrograms = np.array(spectrograms)\n",
    "print(type(spectrograms))\n",
    "print(type(spectrograms[0]))\n",
    "print(spectrograms[0].shape)"
   ]
  },
  {
   "cell_type": "code",
   "execution_count": null,
   "metadata": {},
   "outputs": [],
   "source": [
    "spectrograms = np.expand_dims(spectrograms, axis=-1)\n",
    "print(spectrograms.shape)\n",
    "print(spectrograms[0].shape)"
   ]
  },
  {
   "cell_type": "markdown",
   "metadata": {},
   "source": [
    "# Dividir los datos"
   ]
  },
  {
   "cell_type": "code",
   "execution_count": 8,
   "metadata": {},
   "outputs": [],
   "source": [
    "#Entrenamiento y pruebas\n",
    "X_train,X_test,y_train,y_test = train_test_split( spectrograms,\n",
    "                                                 labels,\n",
    "                                                 test_size=0.2,\n",
    "                                                 random_state=83)\n",
    "#Entrenamiento y validación\n",
    "X_train,X_val, y_train,y_val =  train_test_split( X_train,\n",
    "                                                  y_train,\n",
    "                                                  test_size=0.2,\n",
    "                                                  random_state=83)"
   ]
  },
  {
   "cell_type": "code",
   "execution_count": null,
   "metadata": {},
   "outputs": [],
   "source": []
  },
  {
   "cell_type": "markdown",
   "metadata": {},
   "source": [
    "# Normalizar?"
   ]
  },
  {
   "cell_type": "code",
   "execution_count": null,
   "metadata": {},
   "outputs": [],
   "source": [
    "# Asumiendo que `spectrograms_array` es tu array de espectrogramas\n",
    "print(\"Valor mínimo:\", np.min(spectrograms))\n",
    "print(\"Valor máximo:\", np.max(spectrograms))\n",
    "print(\"Media:\", np.mean(spectrograms))\n",
    "print(\"Desviación estándar:\", np.std(spectrograms))"
   ]
  },
  {
   "cell_type": "code",
   "execution_count": null,
   "metadata": {},
   "outputs": [],
   "source": [
    "# Aplana el array para facilitar la visualización\n",
    "values = spectrograms.flatten()\n",
    "\n",
    "plt.hist(values, bins=50)\n",
    "plt.title('Histograma de Valores de Espectrogramas')\n",
    "plt.xlabel('Valor')\n",
    "plt.ylabel('Frecuencia')\n",
    "plt.show()"
   ]
  },
  {
   "cell_type": "code",
   "execution_count": null,
   "metadata": {},
   "outputs": [],
   "source": [
    "# Obtener un resumen estadístico\n",
    "stats = {\n",
    "    'Mínimo': np.min(values),\n",
    "    'Máximo': np.max(values),\n",
    "    'Media': np.mean(values),\n",
    "    'Desviación Estándar': np.std(values),\n",
    "    '25º Percentil': np.percentile(values, 25),\n",
    "    '50º Percentil (Mediana)': np.percentile(values, 50),\n",
    "    '75º Percentil': np.percentile(values, 75)\n",
    "}\n",
    "\n",
    "for key, value in stats.items():\n",
    "    print(f'{key}: {value}')"
   ]
  },
  {
   "cell_type": "code",
   "execution_count": 12,
   "metadata": {},
   "outputs": [],
   "source": [
    "# Normalizar los datos\n",
    "X_train_norm = X_train / np.max(X_train)\n",
    "X_val_norm = X_val / np.max(X_val)\n",
    "X_test_norm = X_test / np.max(X_test)"
   ]
  },
  {
   "cell_type": "code",
   "execution_count": null,
   "metadata": {},
   "outputs": [],
   "source": [
    "# Graficar el espectrograma de la primer canción\n",
    "aux_spec = np.squeeze(X_train[1])\n",
    "\n",
    "\n",
    "#Visualizar\n",
    "fig,ax = plt.subplots(figsize=(10,5))\n",
    "\n",
    "img = librosa.display.specshow(aux_spec,\n",
    "                               x_axis='time',\n",
    "                               y_axis='log',\n",
    "                               ax=ax)\n",
    "\n",
    "ax.set_title('Espectrograma de la primer canción',fontsize=(20))\n",
    "fig.colorbar(img,ax=ax,format=f'%0.2f')\n",
    "\n",
    "plt.show()"
   ]
  },
  {
   "cell_type": "code",
   "execution_count": null,
   "metadata": {},
   "outputs": [],
   "source": [
    "# Graficar el espectrograma de la primer canción pero normalizada\n",
    "espectrograma_normalizado = np.squeeze(X_train_norm[1])\n",
    "# Visualizar el espectrograma normalizado\n",
    "fig,ax = plt.subplots(figsize=(10,5))\n",
    "\n",
    "img = librosa.display.specshow(espectrograma_normalizado,\n",
    "                               x_axis='time',\n",
    "                               y_axis='log',\n",
    "                               ax=ax)\n",
    "ax.set_title('Espectrograma de la primer canción normalizada',fontsize=(20))\n",
    "fig.colorbar(img, ax=ax, format=f'%0.2f')\n",
    "plt.show()"
   ]
  },
  {
   "cell_type": "code",
   "execution_count": 15,
   "metadata": {},
   "outputs": [],
   "source": [
    "# Normalizar los datos\n",
    "X_train = X_train_norm\n",
    "X_val = X_val_norm\n",
    "X_test = X_test_norm"
   ]
  },
  {
   "cell_type": "markdown",
   "metadata": {},
   "source": [
    "# Guardar datos procesados"
   ]
  },
  {
   "cell_type": "code",
   "execution_count": 16,
   "metadata": {},
   "outputs": [],
   "source": [
    "import h5py"
   ]
  },
  {
   "cell_type": "code",
   "execution_count": 17,
   "metadata": {},
   "outputs": [],
   "source": [
    "# Guardar los datos en un archivo .h5\n",
    "DATOS_DIR = os.path.join(ASSETS_DIR,'processed_data.h5')\n",
    "\n",
    "with h5py.File(DATOS_DIR, 'w') as hf:\n",
    "    hf.create_dataset('X_train', data=X_train)\n",
    "    hf.create_dataset('X_test', data=X_test)\n",
    "    hf.create_dataset('X_val', data=X_val)\n",
    "    hf.create_dataset('y_train', data=y_train)\n",
    "    hf.create_dataset('y_test', data=y_test)\n",
    "    hf.create_dataset('y_val', data=y_val)"
   ]
  },
  {
   "cell_type": "markdown",
   "metadata": {},
   "source": [
    "# Cargar datos procesados"
   ]
  },
  {
   "cell_type": "code",
   "execution_count": 3,
   "metadata": {},
   "outputs": [],
   "source": [
    "import h5py\n",
    "# Cargar los datos desde un archivo .h5\n",
    "DATOS_DIR = os.path.join(ASSETS_DIR,'processed_data.h5')\n",
    "with h5py.File(DATOS_DIR, 'r') as hf:\n",
    "    X_train = hf['X_train'][:]\n",
    "    X_test = hf['X_test'][:]\n",
    "    X_val = hf['X_val'][:]\n",
    "    y_train = hf['y_train'][:]\n",
    "    y_test = hf['y_test'][:]\n",
    "    y_val = hf['y_val'][:]"
   ]
  },
  {
   "cell_type": "markdown",
   "metadata": {},
   "source": [
    "# CNN"
   ]
  },
  {
   "cell_type": "code",
   "execution_count": 4,
   "metadata": {},
   "outputs": [],
   "source": [
    "import tensorflow as tf\n",
    "from tensorflow.keras import layers\n",
    "from tensorflow.keras.layers import Input\n",
    "from tensorflow.keras.models import Model\n",
    "from tensorflow.keras.optimizers import Adam"
   ]
  },
  {
   "cell_type": "code",
   "execution_count": 5,
   "metadata": {},
   "outputs": [
    {
     "name": "stdout",
     "output_type": "stream",
     "text": [
      "--------------------ENTRENAMIENTO--------------------------------\n",
      "Dimensión datos de entrenamiento: (490, 513, 1671, 1)\n",
      "Dimensión etiquetas de entrenamiento: (490, 2)\n",
      "--------------------PRUEBAS--------------------------------\n",
      "Dimensión datos de prueba: (154, 513, 1671, 1)\n",
      "Dimensión etiquetas de prueba: (154, 2)\n",
      "--------------------VALIDACIÓN--------------------------------\n",
      "Dimensión datos de validación: (123, 513, 1671, 1)\n",
      "Dimensión etiquetas de validación: (123, 2)\n"
     ]
    }
   ],
   "source": [
    "print(f'--------------------ENTRENAMIENTO--------------------------------')\n",
    "print(f'Dimensión datos de entrenamiento: {X_train.shape}')\n",
    "print(f'Dimensión etiquetas de entrenamiento: {y_train.shape}')\n",
    "print(f'--------------------PRUEBAS--------------------------------')\n",
    "print(f'Dimensión datos de prueba: {X_test.shape}')\n",
    "print(f'Dimensión etiquetas de prueba: {y_test.shape}')\n",
    "print(f'--------------------VALIDACIÓN--------------------------------')\n",
    "print(f'Dimensión datos de validación: {X_val.shape}')\n",
    "print(f'Dimensión etiquetas de validación: {y_val.shape}')"
   ]
  },
  {
   "cell_type": "code",
   "execution_count": 6,
   "metadata": {},
   "outputs": [
    {
     "name": "stderr",
     "output_type": "stream",
     "text": [
      "2024-09-13 17:10:12.478886: W tensorflow/tsl/framework/cpu_allocator_impl.cc:83] Allocation of 436207616 exceeds 10% of free system memory.\n",
      "2024-09-13 17:10:12.561320: W tensorflow/tsl/framework/cpu_allocator_impl.cc:83] Allocation of 436207616 exceeds 10% of free system memory.\n",
      "2024-09-13 17:10:12.604523: W tensorflow/tsl/framework/cpu_allocator_impl.cc:83] Allocation of 436207616 exceeds 10% of free system memory.\n"
     ]
    },
    {
     "name": "stdout",
     "output_type": "stream",
     "text": [
      "Model: \"model\"\n",
      "_________________________________________________________________\n",
      " Layer (type)                Output Shape              Param #   \n",
      "=================================================================\n",
      " input_1 (InputLayer)        [(None, 513, 1671, 1)]    0         \n",
      "                                                                 \n",
      " conv2d (Conv2D)             (None, 513, 1671, 32)     320       \n",
      "                                                                 \n",
      " max_pooling2d (MaxPooling2D  (None, 256, 835, 32)     0         \n",
      " )                                                               \n",
      "                                                                 \n",
      " batch_normalization (BatchN  (None, 256, 835, 32)     128       \n",
      " ormalization)                                                   \n",
      "                                                                 \n",
      " conv2d_1 (Conv2D)           (None, 256, 835, 64)      18496     \n",
      "                                                                 \n",
      " max_pooling2d_1 (MaxPooling  (None, 128, 417, 64)     0         \n",
      " 2D)                                                             \n",
      "                                                                 \n",
      " batch_normalization_1 (Batc  (None, 128, 417, 64)     256       \n",
      " hNormalization)                                                 \n",
      "                                                                 \n",
      " conv2d_2 (Conv2D)           (None, 128, 417, 128)     73856     \n",
      "                                                                 \n",
      " max_pooling2d_2 (MaxPooling  (None, 64, 208, 128)     0         \n",
      " 2D)                                                             \n",
      "                                                                 \n",
      " batch_normalization_2 (Batc  (None, 64, 208, 128)     512       \n",
      " hNormalization)                                                 \n",
      "                                                                 \n",
      " conv2d_3 (Conv2D)           (None, 64, 208, 256)      295168    \n",
      "                                                                 \n",
      " max_pooling2d_3 (MaxPooling  (None, 32, 104, 256)     0         \n",
      " 2D)                                                             \n",
      "                                                                 \n",
      " batch_normalization_3 (Batc  (None, 32, 104, 256)     1024      \n",
      " hNormalization)                                                 \n",
      "                                                                 \n",
      " flatten (Flatten)           (None, 851968)            0         \n",
      "                                                                 \n",
      " dense (Dense)               (None, 128)               109052032 \n",
      "                                                                 \n",
      " dropout (Dropout)           (None, 128)               0         \n",
      "                                                                 \n",
      " dense_1 (Dense)             (None, 64)                8256      \n",
      "                                                                 \n",
      " dense_2 (Dense)             (None, 2)                 130       \n",
      "                                                                 \n",
      "=================================================================\n",
      "Total params: 109,450,178\n",
      "Trainable params: 109,449,218\n",
      "Non-trainable params: 960\n",
      "_________________________________________________________________\n",
      "Model: \"model\"\n",
      "_________________________________________________________________\n",
      " Layer (type)                Output Shape              Param #   \n",
      "=================================================================\n",
      " input_1 (InputLayer)        [(None, 513, 1671, 1)]    0         \n",
      "                                                                 \n",
      " conv2d (Conv2D)             (None, 513, 1671, 32)     320       \n",
      "                                                                 \n",
      " max_pooling2d (MaxPooling2D  (None, 256, 835, 32)     0         \n",
      " )                                                               \n",
      "                                                                 \n",
      " batch_normalization (BatchN  (None, 256, 835, 32)     128       \n",
      " ormalization)                                                   \n",
      "                                                                 \n",
      " conv2d_1 (Conv2D)           (None, 256, 835, 64)      18496     \n",
      "                                                                 \n",
      " max_pooling2d_1 (MaxPooling  (None, 128, 417, 64)     0         \n",
      " 2D)                                                             \n",
      "                                                                 \n",
      " batch_normalization_1 (Batc  (None, 128, 417, 64)     256       \n",
      " hNormalization)                                                 \n",
      "                                                                 \n",
      " conv2d_2 (Conv2D)           (None, 128, 417, 128)     73856     \n",
      "                                                                 \n",
      " max_pooling2d_2 (MaxPooling  (None, 64, 208, 128)     0         \n",
      " 2D)                                                             \n",
      "                                                                 \n",
      " batch_normalization_2 (Batc  (None, 64, 208, 128)     512       \n",
      " hNormalization)                                                 \n",
      "                                                                 \n",
      " conv2d_3 (Conv2D)           (None, 64, 208, 256)      295168    \n",
      "                                                                 \n",
      " max_pooling2d_3 (MaxPooling  (None, 32, 104, 256)     0         \n",
      " 2D)                                                             \n",
      "                                                                 \n",
      " batch_normalization_3 (Batc  (None, 32, 104, 256)     1024      \n",
      " hNormalization)                                                 \n",
      "                                                                 \n",
      " flatten (Flatten)           (None, 851968)            0         \n",
      "                                                                 \n",
      " dense (Dense)               (None, 128)               109052032 \n",
      "                                                                 \n",
      " dropout (Dropout)           (None, 128)               0         \n",
      "                                                                 \n",
      " dense_1 (Dense)             (None, 64)                8256      \n",
      "                                                                 \n",
      " dense_2 (Dense)             (None, 2)                 130       \n",
      "                                                                 \n",
      "=================================================================\n",
      "Total params: 109,450,178\n",
      "Trainable params: 109,449,218\n",
      "Non-trainable params: 960\n",
      "_________________________________________________________________\n"
     ]
    },
    {
     "name": "stderr",
     "output_type": "stream",
     "text": [
      "/home/legokna/anaconda3/envs/mirtools/lib/python3.8/site-packages/visualkeras/layered.py:86: UserWarning: The legend_text_spacing_offset parameter is deprecated and will be removed in a future release.\n",
      "  warnings.warn(\"The legend_text_spacing_offset parameter is deprecated and will be removed in a future release.\")\n"
     ]
    }
   ],
   "source": [
    "modelo1 = modelo1()\n",
    "primer_exp = My_nn(X_train=X_train,y_train=y_train,\n",
    "                   X_test=X_test,y_test=y_test,\n",
    "                   X_val=X_val,y_val=y_val,\n",
    "                   model=modelo1)"
   ]
  },
  {
   "cell_type": "markdown",
   "metadata": {},
   "source": [
    "entrenar el modelo"
   ]
  },
  {
   "cell_type": "code",
   "execution_count": 7,
   "metadata": {},
   "outputs": [
    {
     "name": "stderr",
     "output_type": "stream",
     "text": [
      "2024-09-13 17:10:13.242219: W tensorflow/tsl/framework/cpu_allocator_impl.cc:83] Allocation of 1680157080 exceeds 10% of free system memory.\n"
     ]
    },
    {
     "name": "stdout",
     "output_type": "stream",
     "text": [
      "Epoch 1/20\n"
     ]
    },
    {
     "name": "stderr",
     "output_type": "stream",
     "text": [
      "2024-09-13 17:10:14.558690: W tensorflow/tsl/framework/cpu_allocator_impl.cc:83] Allocation of 436207616 exceeds 10% of free system memory.\n"
     ]
    },
    {
     "name": "stdout",
     "output_type": "stream",
     "text": [
      "31/31 [==============================] - 253s 8s/step - loss: 1737.1652 - mae: 25.7617 - val_loss: 9230572.0000 - val_mae: 2768.2854\n",
      "Epoch 2/20\n",
      "31/31 [==============================] - 247s 8s/step - loss: 132.7629 - mae: 8.0502 - val_loss: 850600.2500 - val_mae: 793.4436\n",
      "Epoch 3/20\n",
      "31/31 [==============================] - 247s 8s/step - loss: 27.6313 - mae: 3.1039 - val_loss: 82644.9141 - val_mae: 222.7468\n",
      "Epoch 4/20\n",
      "31/31 [==============================] - 246s 8s/step - loss: 3.6859 - mae: 1.0662 - val_loss: 4929.3350 - val_mae: 43.4747\n",
      "Epoch 5/20\n",
      "31/31 [==============================] - 247s 8s/step - loss: 5.9126 - mae: 0.9124 - val_loss: 84.5090 - val_mae: 3.8752\n",
      "Epoch 6/20\n",
      "31/31 [==============================] - 247s 8s/step - loss: 1.2242 - mae: 0.7277 - val_loss: 7.2851 - val_mae: 0.9188\n",
      "Epoch 7/20\n",
      "31/31 [==============================] - 247s 8s/step - loss: 1.2615 - mae: 0.6821 - val_loss: 6.1337 - val_mae: 0.8802\n",
      "Epoch 8/20\n",
      "31/31 [==============================] - 247s 8s/step - loss: 0.5834 - mae: 0.6233 - val_loss: 7.8694 - val_mae: 0.9042\n",
      "Epoch 9/20\n",
      "31/31 [==============================] - 247s 8s/step - loss: 1.1164 - mae: 0.6407 - val_loss: 7.4032 - val_mae: 0.8166\n",
      "Epoch 10/20\n",
      "31/31 [==============================] - 247s 8s/step - loss: 0.9311 - mae: 0.6100 - val_loss: 6.0186 - val_mae: 0.7693\n",
      "Epoch 11/20\n",
      "31/31 [==============================] - 247s 8s/step - loss: 1.6135 - mae: 0.6045 - val_loss: 5.8691 - val_mae: 0.7687\n",
      "Epoch 12/20\n",
      "31/31 [==============================] - 247s 8s/step - loss: 0.4274 - mae: 0.5939 - val_loss: 5.3107 - val_mae: 0.7638\n",
      "Epoch 13/20\n",
      "31/31 [==============================] - 246s 8s/step - loss: 0.4756 - mae: 0.6001 - val_loss: 5.3360 - val_mae: 0.7672\n",
      "Epoch 14/20\n",
      "31/31 [==============================] - 246s 8s/step - loss: 0.3725 - mae: 0.5822 - val_loss: 6.0852 - val_mae: 0.7755\n",
      "Epoch 15/20\n",
      "31/31 [==============================] - 246s 8s/step - loss: 0.3735 - mae: 0.5792 - val_loss: 6.8769 - val_mae: 0.7816\n",
      "Epoch 16/20\n",
      "31/31 [==============================] - 247s 8s/step - loss: 0.3553 - mae: 0.5689 - val_loss: 7.0216 - val_mae: 0.7744\n",
      "Epoch 17/20\n",
      "31/31 [==============================] - 246s 8s/step - loss: 0.3476 - mae: 0.5609 - val_loss: 6.9522 - val_mae: 0.7645\n",
      "Epoch 18/20\n",
      "31/31 [==============================] - 246s 8s/step - loss: 0.3401 - mae: 0.5539 - val_loss: 6.7042 - val_mae: 0.7512\n",
      "Epoch 19/20\n",
      "31/31 [==============================] - 246s 8s/step - loss: 0.3310 - mae: 0.5426 - val_loss: 7.0679 - val_mae: 0.7463\n",
      "Epoch 20/20\n",
      "31/31 [==============================] - 247s 8s/step - loss: 0.3193 - mae: 0.5301 - val_loss: 6.9742 - val_mae: 0.7306\n"
     ]
    }
   ],
   "source": [
    "hist =  primer_exp.train()"
   ]
  },
  {
   "cell_type": "code",
   "execution_count": 8,
   "metadata": {},
   "outputs": [
    {
     "data": {
      "image/png": "[encoded data removed]",
      "text/plain": [
       "<Figure size 1200x600 with 2 Axes>"
      ]
     },
     "metadata": {},
     "output_type": "display_data"
    }
   ],
   "source": [
    "primer_exp.show_loss_history(hist)"
   ]
  },
  {
   "cell_type": "code",
   "execution_count": 9,
   "metadata": {},
   "outputs": [
    {
     "name": "stdout",
     "output_type": "stream",
     "text": [
      "5/5 - 15s - loss: 1.2175 - mae: 0.6043 - 15s/epoch - 3s/step\n",
      "1.2175248861312866\n",
      "0.6043494343757629\n"
     ]
    }
   ],
   "source": [
    "loss,mae = primer_exp.evaluate()\n",
    "print(loss)\n",
    "print(mae)"
   ]
  },
  {
   "cell_type": "code",
   "execution_count": 10,
   "metadata": {},
   "outputs": [
    {
     "name": "stdout",
     "output_type": "stream",
     "text": [
      "5/5 [==============================] - 15s 3s/step\n",
      "(154, 2)\n"
     ]
    }
   ],
   "source": [
    "y_pred = primer_exp.recognize()\n",
    "print(y_pred.shape)"
   ]
  },
  {
   "cell_type": "code",
   "execution_count": 14,
   "metadata": {},
   "outputs": [
    {
     "name": "stdout",
     "output_type": "stream",
     "text": [
      "Mean Squared Error (MSE): 1.2175248361171929\n",
      "Mean Absolute Error (MAE): 0.6043494231816415\n",
      "R-squared (R2): -1.369673467472575\n"
     ]
    }
   ],
   "source": [
    "reporte = primer_exp.get_report(y_true=y_test,y_pred=y_pred)\n",
    "for k in reporte:\n",
    "    print(f'{k}: {reporte[k]}')"
   ]
  },
  {
   "cell_type": "code",
   "execution_count": 24,
   "metadata": {},
   "outputs": [
    {
     "name": "stdout",
     "output_type": "stream",
     "text": [
      "[[0.3        0.3125    ]\n",
      " [0.675      0.8125    ]\n",
      " [0.6875     0.75      ]\n",
      " [0.47727273 0.52272727]\n",
      " [0.725      0.8125    ]\n",
      " [0.5875     0.6125    ]\n",
      " [0.6875     0.85      ]\n",
      " [0.6125     0.6625    ]\n",
      " [0.475      0.6625    ]\n",
      " [0.6125     0.65      ]\n",
      " [0.3        0.3125    ]\n",
      " [0.775      0.8875    ]\n",
      " [0.825      0.875     ]\n",
      " [0.425      0.4875    ]\n",
      " [0.575      0.7125    ]\n",
      " [0.6625     0.725     ]\n",
      " [0.825      0.8625    ]\n",
      " [0.55       0.55      ]\n",
      " [0.3875     0.575     ]\n",
      " [0.4375     0.4375    ]\n",
      " [0.425      0.55      ]\n",
      " [0.55       0.775     ]\n",
      " [0.4        0.675     ]\n",
      " [0.3125     0.7375    ]\n",
      " [0.5125     0.7625    ]\n",
      " [0.7625     0.7875    ]\n",
      " [0.35       0.5125    ]\n",
      " [0.6875     0.7       ]\n",
      " [0.575      0.6375    ]\n",
      " [0.1375     0.275     ]\n",
      " [0.5875     0.6625    ]\n",
      " [0.8        0.875     ]\n",
      " [0.8        0.9375    ]\n",
      " [0.8125     0.825     ]\n",
      " [0.45       0.475     ]\n",
      " [0.475      0.5625    ]\n",
      " [0.35       0.3875    ]\n",
      " [0.2875     0.375     ]\n",
      " [0.6125     0.625     ]\n",
      " [0.375      0.4375    ]\n",
      " [0.4        0.4875    ]\n",
      " [0.6        0.7625    ]\n",
      " [0.7375     0.775     ]\n",
      " [0.5375     0.55      ]\n",
      " [0.6875     0.7       ]\n",
      " [0.7875     0.8625    ]\n",
      " [0.375      0.6       ]\n",
      " [0.4875     0.6375    ]\n",
      " [0.1875     0.4375    ]\n",
      " [0.7875     0.8625    ]\n",
      " [0.6        0.8       ]\n",
      " [0.675      0.675     ]\n",
      " [0.625      0.75      ]\n",
      " [0.7625     0.825     ]\n",
      " [0.6625     0.8       ]\n",
      " [0.79545455 0.90909091]\n",
      " [0.7        0.7       ]\n",
      " [0.4625     0.5875    ]\n",
      " [0.3375     0.4125    ]\n",
      " [0.5625     0.6375    ]\n",
      " [0.6875     0.8625    ]\n",
      " [0.65       0.75      ]\n",
      " [0.525      0.675     ]\n",
      " [0.6125     0.6375    ]\n",
      " [0.7375     0.9625    ]\n",
      " [0.7625     0.825     ]\n",
      " [0.6625     0.75      ]\n",
      " [0.3875     0.4       ]\n",
      " [0.5375     0.6875    ]\n",
      " [0.25       0.35      ]\n",
      " [0.4        0.45      ]\n",
      " [0.3875     0.5125    ]\n",
      " [0.3125     0.4875    ]\n",
      " [0.75       0.85      ]\n",
      " [0.7125     0.825     ]\n",
      " [0.525      0.5625    ]\n",
      " [0.6625     0.825     ]\n",
      " [0.525      0.675     ]\n",
      " [0.5125     0.675     ]\n",
      " [0.475      0.55      ]\n",
      " [0.4375     0.5       ]\n",
      " [0.625      0.6875    ]\n",
      " [0.7125     0.7125    ]\n",
      " [0.725      0.775     ]\n",
      " [0.2        0.5125    ]\n",
      " [0.5625     0.7       ]\n",
      " [0.8125     0.8875    ]\n",
      " [0.475      0.8375    ]\n",
      " [0.175      0.5125    ]\n",
      " [0.3125     0.4125    ]\n",
      " [0.6875     0.725     ]\n",
      " [0.2875     0.3375    ]\n",
      " [0.275      0.5125    ]\n",
      " [0.4875     0.7       ]\n",
      " [0.3875     0.55      ]\n",
      " [0.275      0.375     ]\n",
      " [0.7125     0.7375    ]\n",
      " [0.65       0.6625    ]\n",
      " [0.7875     0.8375    ]\n",
      " [0.4125     0.4875    ]\n",
      " [0.825      0.8625    ]\n",
      " [0.4625     0.4875    ]\n",
      " [0.675      0.7       ]\n",
      " [0.775      0.825     ]\n",
      " [0.25       0.4875    ]\n",
      " [0.8125     0.9125    ]\n",
      " [0.2625     0.3625    ]\n",
      " [0.65       0.7375    ]\n",
      " [0.7125     0.775     ]\n",
      " [0.55       0.8875    ]\n",
      " [0.5625     0.65      ]\n",
      " [0.7625     0.85      ]\n",
      " [0.4125     0.475     ]\n",
      " [0.65       0.7125    ]\n",
      " [0.6875     0.825     ]\n",
      " [0.6875     0.725     ]\n",
      " [0.525      0.625     ]\n",
      " [0.375      0.375     ]\n",
      " [0.6375     0.825     ]\n",
      " [0.6125     0.675     ]\n",
      " [0.7375     0.7625    ]\n",
      " [0.525      0.725     ]\n",
      " [0.6875     0.7       ]\n",
      " [0.5625     0.6125    ]\n",
      " [0.775      0.9375    ]\n",
      " [0.7375     0.9       ]\n",
      " [0.375      0.3875    ]\n",
      " [0.6375     0.7125    ]\n",
      " [0.55       0.575     ]\n",
      " [0.4125     0.5       ]\n",
      " [0.7125     0.7875    ]\n",
      " [0.5        0.7375    ]\n",
      " [0.475      0.9       ]\n",
      " [0.54545455 0.57954545]\n",
      " [0.7        0.8625    ]\n",
      " [0.35       0.6       ]\n",
      " [0.5        0.65909091]\n",
      " [0.6375     0.725     ]\n",
      " [0.35       0.425     ]\n",
      " [0.75       0.9375    ]\n",
      " [0.75       0.8       ]\n",
      " [0.4        0.425     ]\n",
      " [0.6875     0.7       ]\n",
      " [0.5625     0.875     ]\n",
      " [0.55       0.6125    ]\n",
      " [0.25       0.3875    ]\n",
      " [0.675      0.675     ]\n",
      " [0.625      0.7625    ]\n",
      " [0.4375     0.625     ]\n",
      " [0.625      0.6875    ]\n",
      " [0.6875     0.7375    ]\n",
      " [0.575      0.575     ]\n",
      " [0.125      0.3       ]\n",
      " [0.3625     0.4625    ]]\n"
     ]
    }
   ],
   "source": [
    "print(np.sort(y_test))"
   ]
  },
  {
   "cell_type": "code",
   "execution_count": 25,
   "metadata": {},
   "outputs": [
    {
     "name": "stdout",
     "output_type": "stream",
     "text": [
      "[[  0.03285      0.07660567]\n",
      " [  0.15612404   0.21150833]\n",
      " [  0.03285      0.07660567]\n",
      " [  0.03285      0.07660567]\n",
      " [  0.03285      0.07660567]\n",
      " [  0.03285      0.07660567]\n",
      " [  0.03285      0.07660567]\n",
      " [  0.03285      0.07660567]\n",
      " [  0.13262515   0.19387048]\n",
      " [  0.05567284   0.136112  ]\n",
      " [  0.03285      0.07660567]\n",
      " [  0.03285      0.07660567]\n",
      " [  0.03285      0.07660567]\n",
      " [  0.03285      0.07660567]\n",
      " [  0.03285      0.07660567]\n",
      " [  0.09829836   0.16810602]\n",
      " [  0.03285      0.07660567]\n",
      " [  0.03285      0.07660567]\n",
      " [  3.1426973    8.545166  ]\n",
      " [  0.03285      0.07660567]\n",
      " [  0.03285      0.07660567]\n",
      " [  0.03285      0.07660567]\n",
      " [  0.03285      0.07660567]\n",
      " [  0.13262515   0.19387048]\n",
      " [  0.03285      0.07660567]\n",
      " [  0.03285      0.07660567]\n",
      " [  0.03285      0.07660567]\n",
      " [  0.03285      0.07660567]\n",
      " [  0.03285      0.07660567]\n",
      " [  0.03285      0.07660567]\n",
      " [  0.03285      0.07660567]\n",
      " [  0.37475163   0.37560505]\n",
      " [  0.46179336   0.4895807 ]\n",
      " [  0.03285      0.07660567]\n",
      " [  0.03285      0.07660567]\n",
      " [  0.03285      0.07660567]\n",
      " [  0.03285      0.07660567]\n",
      " [  0.03285      0.07660567]\n",
      " [  0.03285      0.07660567]\n",
      " [  0.03285      0.07660567]\n",
      " [  0.03285      0.07660567]\n",
      " [  0.03285      0.07660567]\n",
      " [  0.03285      0.07660567]\n",
      " [  0.03285      0.07660567]\n",
      " [  0.03285      0.07660567]\n",
      " [  0.03285      0.07660567]\n",
      " [  0.03285      0.07660567]\n",
      " [  0.03285      0.07660567]\n",
      " [  0.03285      0.07660567]\n",
      " [  0.03285      0.07660567]\n",
      " [  0.03285      0.07660567]\n",
      " [  0.03285      0.07660567]\n",
      " [  0.03285      0.07660567]\n",
      " [  0.10537939   0.17342061]\n",
      " [  0.03285      0.07660567]\n",
      " [  0.03285      0.07660567]\n",
      " [  0.03285      0.07660567]\n",
      " [  0.03285      0.07660567]\n",
      " [  0.03285      0.07660567]\n",
      " [  0.03285      0.07660567]\n",
      " [  0.03285      0.07660567]\n",
      " [  0.03285      0.07660567]\n",
      " [  0.03285      0.07660567]\n",
      " [  0.03285      0.07660567]\n",
      " [  0.53326076   0.58479935]\n",
      " [  0.03285      0.07660567]\n",
      " [  0.03285      0.07660567]\n",
      " [  0.03285      0.07660567]\n",
      " [  0.23692231   0.27215427]\n",
      " [  0.03285      0.07660567]\n",
      " [  0.03285      0.07660567]\n",
      " [  0.03285      0.07660567]\n",
      " [  0.03285      0.07660567]\n",
      " [  0.0558912    0.13627571]\n",
      " [  0.03285      0.07660567]\n",
      " [  0.08502452   0.1581428 ]\n",
      " [  0.03285      0.07660567]\n",
      " [  0.03285      0.07660567]\n",
      " [  0.03285      0.07660567]\n",
      " [  0.03285      0.07660567]\n",
      " [  0.03285      0.07660567]\n",
      " [  0.03285      0.07660567]\n",
      " [  0.2823003    0.30621308]\n",
      " [  0.03285      0.07660567]\n",
      " [  0.03285      0.07660567]\n",
      " [  0.03285      0.07660567]\n",
      " [  0.03285      0.07660567]\n",
      " [  0.03285      0.07660567]\n",
      " [  0.03285      0.07660567]\n",
      " [  0.03285      0.07660567]\n",
      " [  0.03285      0.07660567]\n",
      " [  0.03285      0.07660567]\n",
      " [  0.03285      0.07660567]\n",
      " [  0.03285      0.07660567]\n",
      " [  0.03285      0.07660567]\n",
      " [  0.03285      0.07660567]\n",
      " [  0.03285      0.07660567]\n",
      " [  0.03285      0.07660567]\n",
      " [  0.03285      0.07660567]\n",
      " [  0.03285      0.07660567]\n",
      " [  0.03285      0.07660567]\n",
      " [  0.03285      0.07660567]\n",
      " [  1.7449522    1.9106196 ]\n",
      " [  0.03285      0.07660567]\n",
      " [  0.03285      0.07660567]\n",
      " [  0.03285      0.07660567]\n",
      " [  0.03285      0.07660567]\n",
      " [  0.03285      0.07660567]\n",
      " [  0.38313955   0.38478905]\n",
      " [  0.03285      0.07660567]\n",
      " [  0.03285      0.07660567]\n",
      " [  0.03285      0.07660567]\n",
      " [  0.03285      0.07660567]\n",
      " [  0.03285      0.07660567]\n",
      " [  0.03285      0.07660567]\n",
      " [  0.03285      0.07660567]\n",
      " [  0.03285      0.07660567]\n",
      " [  0.03285      0.07660567]\n",
      " [  0.03285      0.07660567]\n",
      " [  0.03285      0.07660567]\n",
      " [  0.03285      0.07660567]\n",
      " [  0.03285      0.07660567]\n",
      " [  0.03285      0.07660567]\n",
      " [  0.03285      0.07660567]\n",
      " [  1.0016907    1.2623129 ]\n",
      " [  0.03285      0.07660567]\n",
      " [  0.03285      0.07660567]\n",
      " [  0.03285      0.07660567]\n",
      " [  0.03285      0.07660567]\n",
      " [  0.03285      0.07660567]\n",
      " [  0.07363932   0.14959735]\n",
      " [  0.03285      0.07660567]\n",
      " [  0.03285      0.07660567]\n",
      " [  0.43162197   0.44938332]\n",
      " [  0.03285      0.07660567]\n",
      " [  0.03285      0.07660567]\n",
      " [  0.10574822   0.17369777]\n",
      " [  0.03285      0.07660567]\n",
      " [  0.03285      0.07660567]\n",
      " [  0.02813469   0.11217083]\n",
      " [  0.21879081   0.2585444 ]\n",
      " [  0.03285      0.07660567]\n",
      " [  0.03285      0.07660567]\n",
      " [  0.03285      0.07660567]\n",
      " [  0.03285      0.07660567]\n",
      " [  0.03285      0.07660567]\n",
      " [  0.03285      0.07660567]\n",
      " [-13.661787    -0.07735068]\n",
      " [  0.1077234    0.17517978]\n",
      " [  0.03285      0.07660567]\n",
      " [  0.42939943   0.44642168]\n",
      " [  0.03285      0.07660567]\n",
      " [  0.03285      0.07660567]\n",
      " [  0.03285      0.07660567]]\n"
     ]
    }
   ],
   "source": [
    "print(np.sort(y_pred))"
   ]
  },
  {
   "cell_type": "code",
   "execution_count": 26,
   "metadata": {},
   "outputs": [],
   "source": [
    "primer_exp.save_model()"
   ]
  }
 ],
 "metadata": {
  "kernelspec": {
   "display_name": "mirtools",
   "language": "python",
   "name": "python3"
  },
  "language_info": {
   "codemirror_mode": {
    "name": "ipython",
    "version": 3
   },
   "file_extension": ".py",
   "mimetype": "text/x-python",
   "name": "python",
   "nbconvert_exporter": "python",
   "pygments_lexer": "ipython3",
   "version": "3.8.19"
  }
 },
 "nbformat": 4,
 "nbformat_minor": 2
}
