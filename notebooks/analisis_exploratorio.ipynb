{
 "cells": [
  {
   "cell_type": "markdown",
   "metadata": {},
   "source": [
    "# Analisis exploratorio de los datasets\n",
    "\n",
    "- PMEmo\n",
    "- MEDIAEVAL"
   ]
  },
  {
   "cell_type": "code",
   "execution_count": 1,
   "metadata": {},
   "outputs": [],
   "source": [
    "import os\n",
    "import pandas as pd\n",
    "import numpy as np\n",
    "\n",
    "from dotenv import load_dotenv\n"
   ]
  },
  {
   "cell_type": "markdown",
   "metadata": {},
   "source": [
    "## PMEmo"
   ]
  },
  {
   "cell_type": "markdown",
   "metadata": {},
   "source": [
    "### Cargar los archivos de anotaciones V/A del dataset PMEmo"
   ]
  },
  {
   "cell_type": "code",
   "execution_count": 2,
   "metadata": {},
   "outputs": [
    {
     "data": {
      "text/plain": [
       "True"
      ]
     },
     "execution_count": 2,
     "metadata": {},
     "output_type": "execute_result"
    }
   ],
   "source": [
    "# Cargar el archivo de variables de entorno\n",
    "load_dotenv()"
   ]
  },
  {
   "cell_type": "code",
   "execution_count": 3,
   "metadata": {},
   "outputs": [
    {
     "name": "stdout",
     "output_type": "stream",
     "text": [
      "El directorio A_PMEMO_DIR existe\n"
     ]
    }
   ],
   "source": [
    "# Comprobar que el archivo de variables de entorno exista\n",
    "A_PMEMO_DIR = os.getenv('PMEMO_ANOTATIONS')\n",
    "\n",
    "if os.path.exists(A_PMEMO_DIR) and os.path.isdir(A_PMEMO_DIR):\n",
    "    print(\"El directorio A_PMEMO_DIR existe\")\n",
    "else:\n",
    "    print(\"El directorio A_PMEMO_DIR no existe\")"
   ]
  },
  {
   "cell_type": "code",
   "execution_count": 4,
   "metadata": {},
   "outputs": [
    {
     "name": "stdout",
     "output_type": "stream",
     "text": [
      "E:\\Python Proy\\mer\\assets\\PMEMO\\PMEmo2019\\annotations\\dynamic_annotations.csv\n",
      "E:\\Python Proy\\mer\\assets\\PMEMO\\PMEmo2019\\annotations\\dynamic_annotations_std.csv\n",
      "E:\\Python Proy\\mer\\assets\\PMEMO\\PMEmo2019\\annotations\\static_annotations.csv\n",
      "E:\\Python Proy\\mer\\assets\\PMEMO\\PMEmo2019\\annotations\\static_annotations_std.csv\n"
     ]
    }
   ],
   "source": [
    "# Listar archivos de anotaciones\n",
    "anotations_files = os.listdir(A_PMEMO_DIR)\n",
    "\n",
    "anotations_files = [os.path.join(A_PMEMO_DIR,x) for x in anotations_files]\n",
    "\n",
    "for f in anotations_files:\n",
    "    print(f)\n"
   ]
  },
  {
   "cell_type": "code",
   "execution_count": 5,
   "metadata": {},
   "outputs": [
    {
     "name": "stdout",
     "output_type": "stream",
     "text": [
      "<class 'pandas.core.frame.DataFrame'>\n",
      "RangeIndex: 36434 entries, 0 to 36433\n",
      "Data columns (total 4 columns):\n",
      " #   Column         Non-Null Count  Dtype  \n",
      "---  ------         --------------  -----  \n",
      " 0   musicId        36434 non-null  int64  \n",
      " 1   frameTime      36434 non-null  float64\n",
      " 2   Arousal(mean)  36434 non-null  float64\n",
      " 3   Valence(mean)  36434 non-null  float64\n",
      "dtypes: float64(3), int64(1)\n",
      "memory usage: 1.1 MB\n",
      "None\n",
      "----------------------------------------------------------------\n",
      "            musicId     frameTime  Arousal(mean)  Valence(mean)\n",
      "count  36434.000000  36434.000000   36434.000000   36434.000000\n",
      "mean     526.579349     31.036710       0.632710       0.606817\n",
      "std      295.667299     12.519469       0.176853       0.160098\n",
      "min        1.000000     15.500000       0.095437       0.106562\n",
      "25%      277.000000     21.500000       0.514228       0.499675\n",
      "50%      539.000000     28.000000       0.657556       0.630675\n",
      "75%      788.000000     37.500000       0.777000       0.735775\n",
      "max     1000.000000     88.000000       0.971325       0.929687\n"
     ]
    }
   ],
   "source": [
    "# Anotaciones dinamicas\n",
    "dyn_anot = pd.read_csv(anotations_files[0])\n",
    "print(dyn_anot.info())\n",
    "print(\"----------------------------------------------------------------\")\n",
    "print(dyn_anot.describe())"
   ]
  },
  {
   "cell_type": "code",
   "execution_count": 6,
   "metadata": {},
   "outputs": [
    {
     "name": "stdout",
     "output_type": "stream",
     "text": [
      "<class 'pandas.core.frame.DataFrame'>\n",
      "RangeIndex: 36434 entries, 0 to 36433\n",
      "Data columns (total 4 columns):\n",
      " #   Column        Non-Null Count  Dtype  \n",
      "---  ------        --------------  -----  \n",
      " 0   musicId       36434 non-null  int64  \n",
      " 1   frameTime     36434 non-null  float64\n",
      " 2   Arousal(std)  36434 non-null  float64\n",
      " 3   Valence(std)  36434 non-null  float64\n",
      "dtypes: float64(3), int64(1)\n",
      "memory usage: 1.1 MB\n",
      "None\n",
      "----------------------------------------------------------------\n",
      "            musicId     frameTime  Arousal(std)  Valence(std)\n",
      "count  36434.000000  36434.000000  36434.000000  36434.000000\n",
      "mean     526.579349     31.036710      0.290183      0.316347\n",
      "std      295.667299     12.519469      0.096060      0.092165\n",
      "min        1.000000     15.500000      0.072205      0.068932\n",
      "25%      277.000000     21.500000      0.219707      0.252787\n",
      "50%      539.000000     28.000000      0.281541      0.310846\n",
      "75%      788.000000     37.500000      0.351772      0.379066\n",
      "max     1000.000000     88.000000      0.632586      0.608226\n"
     ]
    }
   ],
   "source": [
    "#Anotaciones dinamicas std\n",
    "dyn_anot_std = pd.read_csv(anotations_files[1])\n",
    "\n",
    "print(dyn_anot_std.info())\n",
    "print(\"----------------------------------------------------------------\")\n",
    "print(dyn_anot_std.describe())"
   ]
  },
  {
   "cell_type": "code",
   "execution_count": 7,
   "metadata": {},
   "outputs": [
    {
     "name": "stdout",
     "output_type": "stream",
     "text": [
      "<class 'pandas.core.frame.DataFrame'>\n",
      "RangeIndex: 767 entries, 0 to 766\n",
      "Data columns (total 3 columns):\n",
      " #   Column         Non-Null Count  Dtype  \n",
      "---  ------         --------------  -----  \n",
      " 0   musicId        767 non-null    int64  \n",
      " 1   Arousal(mean)  767 non-null    float64\n",
      " 2   Valence(mean)  767 non-null    float64\n",
      "dtypes: float64(2), int64(1)\n",
      "memory usage: 18.1 KB\n",
      "None\n",
      "----------------------------------------------------------------\n",
      "           musicId  Arousal(mean)  Valence(mean)\n",
      "count   767.000000     767.000000     767.000000\n",
      "mean    493.770535       0.622355       0.596581\n",
      "std     285.958166       0.184812       0.161986\n",
      "min       1.000000       0.087500       0.125000\n",
      "25%     238.500000       0.500000       0.487500\n",
      "50%     495.000000       0.650000       0.625000\n",
      "75%     739.500000       0.762500       0.725000\n",
      "max    1000.000000       0.975000       0.912500\n"
     ]
    }
   ],
   "source": [
    "#Anotaciones estaticas\n",
    "sta_anot = pd.read_csv(anotations_files[2])\n",
    "\n",
    "print(sta_anot.info())\n",
    "print(\"----------------------------------------------------------------\")\n",
    "print(sta_anot.describe())"
   ]
  },
  {
   "cell_type": "code",
   "execution_count": 8,
   "metadata": {},
   "outputs": [
    {
     "name": "stdout",
     "output_type": "stream",
     "text": [
      "<class 'pandas.core.frame.DataFrame'>\n",
      "RangeIndex: 767 entries, 0 to 766\n",
      "Data columns (total 3 columns):\n",
      " #   Column        Non-Null Count  Dtype  \n",
      "---  ------        --------------  -----  \n",
      " 0   musicId       767 non-null    int64  \n",
      " 1   Arousal(std)  767 non-null    float64\n",
      " 2   Valence(std)  767 non-null    float64\n",
      "dtypes: float64(2), int64(1)\n",
      "memory usage: 18.1 KB\n",
      "None\n",
      "----------------------------------------------------------------\n",
      "           musicId  Arousal(std)  Valence(std)\n",
      "count   767.000000    767.000000    767.000000\n",
      "mean    493.770535      0.147390      0.164211\n",
      "std     285.958166      0.047480      0.045941\n",
      "min       1.000000      0.050000      0.057282\n",
      "25%     238.500000      0.112500      0.130504\n",
      "50%     495.000000      0.141973      0.160078\n",
      "75%     739.500000      0.176997      0.193851\n",
      "max    1000.000000      0.316475      0.313498\n"
     ]
    }
   ],
   "source": [
    "#Anotaciones estaticas std\n",
    "sta_anot_std = pd.read_csv(anotations_files[3])\n",
    "\n",
    "print(sta_anot_std.info())\n",
    "print(\"----------------------------------------------------------------\")\n",
    "print(sta_anot_std.describe())"
   ]
  },
  {
   "cell_type": "markdown",
   "metadata": {},
   "source": [
    "### Cuantos archivos de audio existen en el dataset"
   ]
  },
  {
   "cell_type": "code",
   "execution_count": 9,
   "metadata": {},
   "outputs": [
    {
     "name": "stdout",
     "output_type": "stream",
     "text": [
      "El directorio AUDIO_PMEMO_DIR existe\n"
     ]
    }
   ],
   "source": [
    "AUDIO_PMEMO_DIR = os.getenv(\"PMEMO_AUDIO\")\n",
    "\n",
    "if os.path.exists(AUDIO_PMEMO_DIR) and os.path.isdir(AUDIO_PMEMO_DIR):\n",
    "    print(\"El directorio AUDIO_PMEMO_DIR existe\")\n",
    "else:\n",
    "    print(\"El directorio AUDIO_PMEMO_DIR no existe\")"
   ]
  },
  {
   "cell_type": "code",
   "execution_count": 10,
   "metadata": {},
   "outputs": [
    {
     "name": "stdout",
     "output_type": "stream",
     "text": [
      "Hay 794 archivos de audio\n"
     ]
    }
   ],
   "source": [
    "audio_files = os.listdir(AUDIO_PMEMO_DIR)\n",
    "print(f'Hay {len(audio_files)} archivos de audio')"
   ]
  },
  {
   "cell_type": "markdown",
   "metadata": {},
   "source": [
    "### Metadata de los archivos"
   ]
  },
  {
   "cell_type": "code",
   "execution_count": 11,
   "metadata": {},
   "outputs": [
    {
     "name": "stdout",
     "output_type": "stream",
     "text": [
      "<class 'pandas.core.frame.DataFrame'>\n",
      "RangeIndex: 794 entries, 0 to 793\n",
      "Data columns (total 8 columns):\n",
      " #   Column             Non-Null Count  Dtype  \n",
      "---  ------             --------------  -----  \n",
      " 0   musicId            794 non-null    int64  \n",
      " 1   fileName           794 non-null    object \n",
      " 2   title              794 non-null    object \n",
      " 3   artist             794 non-null    object \n",
      " 4   album              787 non-null    object \n",
      " 5   duration           794 non-null    float64\n",
      " 6   chorus_start_time  794 non-null    object \n",
      " 7   chorus_end_time    794 non-null    object \n",
      "dtypes: float64(1), int64(1), object(6)\n",
      "memory usage: 49.8+ KB\n",
      "None\n",
      "------------------------------------------------------------\n",
      "           musicId    duration\n",
      "count   794.000000  794.000000\n",
      "mean    487.847607   38.016360\n",
      "std     285.248735   14.199771\n",
      "min       1.000000   11.080000\n",
      "25%     235.250000   28.090000\n",
      "50%     485.500000   36.130000\n",
      "75%     731.750000   45.140000\n",
      "max    1000.000000   88.240000\n"
     ]
    }
   ],
   "source": [
    "pmemo_metadata = pd.read_csv(os.getenv('PMEMO_META'))\n",
    "print(pmemo_metadata.info())\n",
    "print('------------------------------------------------------------')\n",
    "print(pmemo_metadata.describe())"
   ]
  },
  {
   "cell_type": "markdown",
   "metadata": {},
   "source": [
    "### Canciones con y sin anotaciones"
   ]
  },
  {
   "cell_type": "code",
   "execution_count": 20,
   "metadata": {},
   "outputs": [
    {
     "name": "stdout",
     "output_type": "stream",
     "text": [
      "ids unicos de anotaciones dinamicas: (767,)\n",
      "ids unicos de anotaciones estaticas: (767,)\n",
      "<class 'numpy.ndarray'>\n"
     ]
    }
   ],
   "source": [
    "#Obtener los ids unicos de la columna musicId anotaciones dy\n",
    "dyn_anot_ids = dyn_anot['musicId'].unique()\n",
    "print(f\"ids unicos de anotaciones dinamicas: {dyn_anot_ids.shape}\")\n",
    "\n",
    "#Obtener los ids unicos de la columna musicId anotaciones st\n",
    "sta_anot_ids = sta_anot['musicId'].unique()\n",
    "print(f'ids unicos de anotaciones estaticas: {sta_anot_ids.shape}')"
   ]
  },
  {
   "cell_type": "code",
   "execution_count": 22,
   "metadata": {},
   "outputs": [
    {
     "name": "stdout",
     "output_type": "stream",
     "text": [
      "Ambos arrays tienen los mismos datos\n",
      "Ambos arrays tienen los mismos datos\n"
     ]
    }
   ],
   "source": [
    "#Comparar si ambas anotaciones tienen los mismos ids\n",
    "\n",
    "if np.array_equal(dyn_anot_ids,sta_anot_ids):\n",
    "    print(\"Ambos arrays tienen los mismos datos\")\n",
    "else:\n",
    "    print(\"No tienen los mismos datos\")\n",
    "    \n",
    "\n",
    "if np.array_equal(np.sort(dyn_anot_ids),np.sort(sta_anot_ids)):\n",
    "    print(\"Ambos arrays tienen los mismos datos\")\n",
    "else:\n",
    "    print(\"No tienen los mismos datos\")"
   ]
  },
  {
   "cell_type": "code",
   "execution_count": 29,
   "metadata": {},
   "outputs": [
    {
     "name": "stdout",
     "output_type": "stream",
     "text": [
      "794 - 767 = 27\n",
      "[ 11  64  85  95 101 110 118 205 206 226 264 278 291 311 320 352 359 371\n",
      " 384 392 404 459 464 596 610 687 866]\n"
     ]
    }
   ],
   "source": [
    "#Obtener ids que no tienen anotaciones\n",
    "\n",
    "#ids totales\n",
    "ids = pmemo_metadata['musicId'].unique()\n",
    "\n",
    "#Obtener ids que no cuentan con anotaciones\n",
    "ids_no_anot = np.setdiff1d(ids,dyn_anot_ids)\n",
    "\n",
    "print(f\"{ids.shape[0]} - {dyn_anot_ids.shape[0]} = {ids.shape[0] - dyn_anot_ids.shape[0]}\")\n",
    "print(ids_no_anot)"
   ]
  },
  {
   "cell_type": "code",
   "execution_count": 31,
   "metadata": {},
   "outputs": [
    {
     "name": "stdout",
     "output_type": "stream",
     "text": [
      "<class 'pandas.core.frame.DataFrame'>\n",
      "Index: 767 entries, 0 to 793\n",
      "Data columns (total 8 columns):\n",
      " #   Column             Non-Null Count  Dtype  \n",
      "---  ------             --------------  -----  \n",
      " 0   musicId            767 non-null    int64  \n",
      " 1   fileName           767 non-null    object \n",
      " 2   title              767 non-null    object \n",
      " 3   artist             767 non-null    object \n",
      " 4   album              760 non-null    object \n",
      " 5   duration           767 non-null    float64\n",
      " 6   chorus_start_time  767 non-null    object \n",
      " 7   chorus_end_time    767 non-null    object \n",
      "dtypes: float64(1), int64(1), object(6)\n",
      "memory usage: 53.9+ KB\n",
      "None\n"
     ]
    }
   ],
   "source": [
    "#Metadatos de las canciones con anotaciones\n",
    "pmemo_meta_anot = pmemo_metadata[~pmemo_metadata['musicId'].isin(ids_no_anot)]\n",
    "\n",
    "print(pmemo_meta_anot.info())"
   ]
  },
  {
   "cell_type": "code",
   "execution_count": 32,
   "metadata": {},
   "outputs": [
    {
     "name": "stdout",
     "output_type": "stream",
     "text": [
      "<class 'pandas.core.frame.DataFrame'>\n",
      "Index: 27 entries, 8 to 702\n",
      "Data columns (total 8 columns):\n",
      " #   Column             Non-Null Count  Dtype  \n",
      "---  ------             --------------  -----  \n",
      " 0   musicId            27 non-null     int64  \n",
      " 1   fileName           27 non-null     object \n",
      " 2   title              27 non-null     object \n",
      " 3   artist             27 non-null     object \n",
      " 4   album              27 non-null     object \n",
      " 5   duration           27 non-null     float64\n",
      " 6   chorus_start_time  27 non-null     object \n",
      " 7   chorus_end_time    27 non-null     object \n",
      "dtypes: float64(1), int64(1), object(6)\n",
      "memory usage: 1.9+ KB\n",
      "None\n"
     ]
    }
   ],
   "source": [
    "#Metadatos de las canciones sin anotaciones\n",
    "not_pmemo_meta_anot = pmemo_metadata[pmemo_metadata['musicId'].isin(ids_no_anot)]\n",
    "\n",
    "print(not_pmemo_meta_anot.info())"
   ]
  },
  {
   "cell_type": "code",
   "execution_count": 35,
   "metadata": {},
   "outputs": [
    {
     "name": "stdout",
     "output_type": "stream",
     "text": [
      "       musicId  frameTime\n",
      "36429     1000       75.0\n",
      "36430     1000       75.5\n",
      "36431     1000       76.0\n",
      "36432     1000       76.5\n",
      "36433     1000       77.0\n"
     ]
    }
   ],
   "source": [
    "print(dyn_anot[['musicId','frameTime']].tail())"
   ]
  },
  {
   "cell_type": "markdown",
   "metadata": {},
   "source": [
    "Todos los clips de audio para anotaciones dinámicas fueron segmentados en clips de audio de 0.5 sec, pero la segmentación del audio, para todos los archivos de audio, comienza en el segundo 15.5 y así hasta el final del audio."
   ]
  },
  {
   "cell_type": "code",
   "execution_count": 47,
   "metadata": {},
   "outputs": [
    {
     "name": "stdout",
     "output_type": "stream",
     "text": [
      "       musicId  frameTime\n",
      "0            1       15.5\n",
      "34           4       15.5\n",
      "60           5       15.5\n",
      "198          6       15.5\n",
      "227          7       15.5\n",
      "...        ...        ...\n",
      "36022      993       15.5\n",
      "36106      996       15.5\n",
      "36176      997       15.5\n",
      "36262      999       15.5\n",
      "36310     1000       15.5\n",
      "\n",
      "[767 rows x 2 columns]\n",
      "El primer valor donde inicia la segmentacion de clips:[15.5]\n"
     ]
    }
   ],
   "source": [
    "dyn_anot_framtimes = dyn_anot.drop_duplicates(subset='musicId',keep='first')\n",
    "\n",
    "print(dyn_anot_framtimes[['musicId','frameTime']])\n",
    "\n",
    "print(f\"El primer valor donde inicia la segmentacion de clips:{dyn_anot_framtimes['frameTime'].unique()}\")\n",
    "\n"
   ]
  }
 ],
 "metadata": {
  "kernelspec": {
   "display_name": "mirtools",
   "language": "python",
   "name": "python3"
  },
  "language_info": {
   "codemirror_mode": {
    "name": "ipython",
    "version": 3
   },
   "file_extension": ".py",
   "mimetype": "text/x-python",
   "name": "python",
   "nbconvert_exporter": "python",
   "pygments_lexer": "ipython3",
   "version": "3.8.19"
  }
 },
 "nbformat": 4,
 "nbformat_minor": 2
}
