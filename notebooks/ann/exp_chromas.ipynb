{
 "cells": [
  {
   "cell_type": "code",
   "execution_count": 1,
   "metadata": {},
   "outputs": [],
   "source": [
    "import h5py\n",
    "import os\n",
    "import numpy as np\n",
    "import tensorflow as tf\n",
    "import pandas as pd\n",
    "import time\n",
    "\n",
    "from dotenv import load_dotenv\n",
    "\n",
    "from sklearn.model_selection import train_test_split\n",
    "\n",
    "from my_functions.my_fun import *\n",
    "from my_functions.my_models import vgg16,vgg16_svm\n",
    "from my_functions.My_nn import My_nn"
   ]
  },
  {
   "cell_type": "code",
   "execution_count": 2,
   "metadata": {},
   "outputs": [],
   "source": [
    "load_dotenv()\n",
    "\n",
    "ASSETS_DIR = os.getenv('ASSETS_DIR')\n",
    "ANOT_DIR = os.getenv('PMEMO_ANOTATIONS')\n",
    "stat_anot_file = os.path.join(ANOT_DIR,'static_annotations.csv')\n",
    "META_DIR = os.getenv('PMEMO_META')\n",
    "aux_dir = META_DIR.split('.')[0]\n",
    "META_DIR = f'{aux_dir}_total.csv'\n",
    "\n"
   ]
  },
  {
   "cell_type": "markdown",
   "metadata": {},
   "source": [
    "# Cargar datos chromas magnitud"
   ]
  },
  {
   "cell_type": "code",
   "execution_count": 3,
   "metadata": {},
   "outputs": [],
   "source": [
    "chromas_m = load_spectrograms(filename='chromas_magnitud')"
   ]
  },
  {
   "cell_type": "code",
   "execution_count": 4,
   "metadata": {},
   "outputs": [
    {
     "data": {
      "text/plain": [
       "(767, 224, 224, 3)"
      ]
     },
     "execution_count": 4,
     "metadata": {},
     "output_type": "execute_result"
    }
   ],
   "source": [
    "chromas_m.shape"
   ]
  },
  {
   "cell_type": "markdown",
   "metadata": {},
   "source": [
    "# Preparar etiquetas"
   ]
  },
  {
   "cell_type": "code",
   "execution_count": 5,
   "metadata": {},
   "outputs": [
    {
     "data": {
      "text/html": [
       "<div>\n",
       "<style scoped>\n",
       "    .dataframe tbody tr th:only-of-type {\n",
       "        vertical-align: middle;\n",
       "    }\n",
       "\n",
       "    .dataframe tbody tr th {\n",
       "        vertical-align: top;\n",
       "    }\n",
       "\n",
       "    .dataframe thead th {\n",
       "        text-align: right;\n",
       "    }\n",
       "</style>\n",
       "<table border=\"1\" class=\"dataframe\">\n",
       "  <thead>\n",
       "    <tr style=\"text-align: right;\">\n",
       "      <th></th>\n",
       "      <th>musicId</th>\n",
       "      <th>Arousal(mean)</th>\n",
       "      <th>Valence(mean)</th>\n",
       "    </tr>\n",
       "  </thead>\n",
       "  <tbody>\n",
       "    <tr>\n",
       "      <th>0</th>\n",
       "      <td>1</td>\n",
       "      <td>0.4000</td>\n",
       "      <td>0.5750</td>\n",
       "    </tr>\n",
       "    <tr>\n",
       "      <th>1</th>\n",
       "      <td>4</td>\n",
       "      <td>0.2625</td>\n",
       "      <td>0.2875</td>\n",
       "    </tr>\n",
       "    <tr>\n",
       "      <th>2</th>\n",
       "      <td>5</td>\n",
       "      <td>0.1500</td>\n",
       "      <td>0.2000</td>\n",
       "    </tr>\n",
       "    <tr>\n",
       "      <th>3</th>\n",
       "      <td>6</td>\n",
       "      <td>0.5125</td>\n",
       "      <td>0.3500</td>\n",
       "    </tr>\n",
       "    <tr>\n",
       "      <th>4</th>\n",
       "      <td>7</td>\n",
       "      <td>0.7000</td>\n",
       "      <td>0.7250</td>\n",
       "    </tr>\n",
       "    <tr>\n",
       "      <th>5</th>\n",
       "      <td>8</td>\n",
       "      <td>0.3875</td>\n",
       "      <td>0.2250</td>\n",
       "    </tr>\n",
       "    <tr>\n",
       "      <th>6</th>\n",
       "      <td>9</td>\n",
       "      <td>0.4500</td>\n",
       "      <td>0.2875</td>\n",
       "    </tr>\n",
       "    <tr>\n",
       "      <th>7</th>\n",
       "      <td>10</td>\n",
       "      <td>0.4375</td>\n",
       "      <td>0.4250</td>\n",
       "    </tr>\n",
       "    <tr>\n",
       "      <th>8</th>\n",
       "      <td>12</td>\n",
       "      <td>0.6875</td>\n",
       "      <td>0.5750</td>\n",
       "    </tr>\n",
       "    <tr>\n",
       "      <th>9</th>\n",
       "      <td>13</td>\n",
       "      <td>0.8250</td>\n",
       "      <td>0.5875</td>\n",
       "    </tr>\n",
       "  </tbody>\n",
       "</table>\n",
       "</div>"
      ],
      "text/plain": [
       "   musicId  Arousal(mean)  Valence(mean)\n",
       "0        1         0.4000         0.5750\n",
       "1        4         0.2625         0.2875\n",
       "2        5         0.1500         0.2000\n",
       "3        6         0.5125         0.3500\n",
       "4        7         0.7000         0.7250\n",
       "5        8         0.3875         0.2250\n",
       "6        9         0.4500         0.2875\n",
       "7       10         0.4375         0.4250\n",
       "8       12         0.6875         0.5750\n",
       "9       13         0.8250         0.5875"
      ]
     },
     "execution_count": 5,
     "metadata": {},
     "output_type": "execute_result"
    }
   ],
   "source": [
    "anot_df = pd.read_csv(stat_anot_file)\n",
    "anot_df.head(10)"
   ]
  },
  {
   "cell_type": "code",
   "execution_count": 6,
   "metadata": {},
   "outputs": [
    {
     "name": "stdout",
     "output_type": "stream",
     "text": [
      "[[0.4    0.575 ]\n",
      " [0.2625 0.2875]\n",
      " [0.15   0.2   ]\n",
      " ...\n",
      " [0.7125 0.6625]\n",
      " [0.875  0.775 ]\n",
      " [0.6625 0.575 ]]\n",
      "(767, 2)\n"
     ]
    }
   ],
   "source": [
    "labels = anot_df[['Arousal(mean)','Valence(mean)']].values\n",
    "print(labels)\n",
    "print(labels.shape)"
   ]
  },
  {
   "cell_type": "markdown",
   "metadata": {},
   "source": [
    "# Dividir conjunto de datos"
   ]
  },
  {
   "cell_type": "code",
   "execution_count": 7,
   "metadata": {},
   "outputs": [
    {
     "data": {
      "text/html": [
       "<div>\n",
       "<style scoped>\n",
       "    .dataframe tbody tr th:only-of-type {\n",
       "        vertical-align: middle;\n",
       "    }\n",
       "\n",
       "    .dataframe tbody tr th {\n",
       "        vertical-align: top;\n",
       "    }\n",
       "\n",
       "    .dataframe thead th {\n",
       "        text-align: right;\n",
       "    }\n",
       "</style>\n",
       "<table border=\"1\" class=\"dataframe\">\n",
       "  <thead>\n",
       "    <tr style=\"text-align: right;\">\n",
       "      <th></th>\n",
       "      <th>musicId</th>\n",
       "      <th>fileName</th>\n",
       "      <th>title</th>\n",
       "      <th>artist</th>\n",
       "      <th>album</th>\n",
       "      <th>duration</th>\n",
       "      <th>chorus_start_time</th>\n",
       "      <th>chorus_end_time</th>\n",
       "    </tr>\n",
       "  </thead>\n",
       "  <tbody>\n",
       "    <tr>\n",
       "      <th>0</th>\n",
       "      <td>1</td>\n",
       "      <td>1.mp3</td>\n",
       "      <td>Good Drank</td>\n",
       "      <td>2 Chainz</td>\n",
       "      <td>Def Jam Presents: Direct Deposit, Vol. 2</td>\n",
       "      <td>32.10</td>\n",
       "      <td>02:35</td>\n",
       "      <td>03:05</td>\n",
       "    </tr>\n",
       "    <tr>\n",
       "      <th>1</th>\n",
       "      <td>4</td>\n",
       "      <td>4.mp3</td>\n",
       "      <td>X Bitch (feat. Future)</td>\n",
       "      <td>21 Savage</td>\n",
       "      <td>Savage Mode</td>\n",
       "      <td>28.09</td>\n",
       "      <td>03:00</td>\n",
       "      <td>03:26</td>\n",
       "    </tr>\n",
       "  </tbody>\n",
       "</table>\n",
       "</div>"
      ],
      "text/plain": [
       "   musicId fileName                   title     artist  \\\n",
       "0        1    1.mp3              Good Drank   2 Chainz   \n",
       "1        4    4.mp3  X Bitch (feat. Future)  21 Savage   \n",
       "\n",
       "                                      album  duration chorus_start_time  \\\n",
       "0  Def Jam Presents: Direct Deposit, Vol. 2     32.10             02:35   \n",
       "1                               Savage Mode     28.09             03:00   \n",
       "\n",
       "  chorus_end_time  \n",
       "0           03:05  \n",
       "1           03:26  "
      ]
     },
     "execution_count": 7,
     "metadata": {},
     "output_type": "execute_result"
    }
   ],
   "source": [
    "pmemo_meta = pd.read_csv(META_DIR)\n",
    "pmemo_meta.head(2)"
   ]
  },
  {
   "cell_type": "code",
   "execution_count": 8,
   "metadata": {},
   "outputs": [
    {
     "name": "stdout",
     "output_type": "stream",
     "text": [
      "145\n",
      "musicId                         179\n",
      "fileName                    179.mp3\n",
      "title                I Got the Keys\n",
      "artist                    DJ Khaled\n",
      "album                I Got the Keys\n",
      "duration                      33.12\n",
      "chorus_start_time             03:00\n",
      "chorus_end_time               03:31\n",
      "Name: 145, dtype: object\n"
     ]
    }
   ],
   "source": [
    "indices = np.arange(len(pmemo_meta))\n",
    "idx = np.random.randint(0,indices.shape[0])\n",
    "print(idx)\n",
    "print(pmemo_meta.iloc[idx])"
   ]
  },
  {
   "cell_type": "code",
   "execution_count": 9,
   "metadata": {},
   "outputs": [
    {
     "name": "stdout",
     "output_type": "stream",
     "text": [
      "Entrenamiento: 460\n",
      "Validación: 153\n",
      "Pruebas: 154\n"
     ]
    }
   ],
   "source": [
    "# Mezcla los índices de manera aleatoria\n",
    "np.random.shuffle(indices)\n",
    "\n",
    "# Calcula los tamaños para cada conjunto\n",
    "train_size = int(0.6 * len(indices))\n",
    "val_size = int(0.2 * len(indices))\n",
    "test_size = len(indices) - train_size - val_size  # Para asegurar que se cubre todo\n",
    "\n",
    "# Divide el array en entrenamiento, validación y prueba\n",
    "train_indices = indices[:train_size]\n",
    "val_indices = indices[train_size:train_size + val_size]\n",
    "test_indices = indices[train_size + val_size:]\n",
    "\n",
    "print(f\"Entrenamiento: {len(train_indices)}\")\n",
    "print(f\"Validación: {len(val_indices)}\")\n",
    "print(f\"Pruebas: {len(test_indices)}\")"
   ]
  },
  {
   "cell_type": "code",
   "execution_count": 10,
   "metadata": {},
   "outputs": [
    {
     "name": "stdout",
     "output_type": "stream",
     "text": [
      "Datos de entrenamiento shape: (460, 224, 224, 3)\n",
      "Etiquetas de entrenamiento shape: (460, 2)\n",
      "Datos de pruebas shape: (154, 224, 224, 3)\n",
      "Etiquetas de pruebas shape: (154, 2)\n",
      "Datos de validación shape: (153, 224, 224, 3)\n",
      "Etiquetas de validación shape: (153, 2)\n"
     ]
    }
   ],
   "source": [
    "X_train = []\n",
    "y_train = []\n",
    "for idx in train_indices:\n",
    "    X_train.append(chromas_m[idx])\n",
    "    y_train.append(labels[idx])\n",
    "\n",
    "X_train = np.array(X_train)\n",
    "y_train = np.array(y_train)\n",
    "\n",
    "X_val = []\n",
    "y_val = []\n",
    "for idx in val_indices:\n",
    "    X_val.append(chromas_m[idx])\n",
    "    y_val.append(labels[idx])\n",
    "X_val = np.array(X_val)\n",
    "y_val = np.array(y_val)\n",
    "\n",
    "X_test = []\n",
    "y_test = []\n",
    "for idx in test_indices:\n",
    "    X_test.append(chromas_m[idx])\n",
    "    y_test.append(labels[idx])\n",
    "\n",
    "X_test = np.array(X_test)\n",
    "y_test = np.array(y_test)\n",
    "\n",
    "print(f'Datos de entrenamiento shape: {X_train.shape}')\n",
    "print(f'Etiquetas de entrenamiento shape: {y_train.shape}')\n",
    "\n",
    "print(f'Datos de pruebas shape: {X_test.shape}')\n",
    "print(f'Etiquetas de pruebas shape: {y_test.shape}')\n",
    "\n",
    "print(f'Datos de validación shape: {X_val.shape}')\n",
    "print(f'Etiquetas de validación shape: {y_val.shape}')\n"
   ]
  },
  {
   "cell_type": "markdown",
   "metadata": {},
   "source": [
    "# Guardar datos procesados"
   ]
  },
  {
   "cell_type": "code",
   "execution_count": 11,
   "metadata": {},
   "outputs": [],
   "source": [
    "# Guardar los datos en un archivo .h5\n",
    "DATOS_DIR = os.path.join(ASSETS_DIR,'processed_chromas_m.h5')\n",
    "\n",
    "with h5py.File(DATOS_DIR, 'w') as hf:\n",
    "    hf.create_dataset('X_train', data=X_train)\n",
    "    hf.create_dataset('X_test', data=X_test)\n",
    "    hf.create_dataset('X_val', data=X_val)\n",
    "    hf.create_dataset('y_train', data=y_train)\n",
    "    hf.create_dataset('y_test', data=y_test)\n",
    "    hf.create_dataset('y_val', data=y_val)"
   ]
  },
  {
   "cell_type": "code",
   "execution_count": 12,
   "metadata": {},
   "outputs": [],
   "source": [
    "# X_train,X_test,y_train,y_test = train_test_split(chromas_m,\n",
    "#                                                  labels,\n",
    "#                                                  test_size=0.4,\n",
    "#                                                  random_state=43)\n",
    "\n",
    "# X_test,X_val,y_test,y_val = train_test_split(X_test,\n",
    "#                                              y_test,\n",
    "#                                              test_size=0.5,\n",
    "#                                              random_state=43)\n",
    "\n",
    "\n",
    "# print(f'Datos de entrenamiento shape: {X_train.shape}')\n",
    "# print(f'Etiquetas de entrenamiento shape: {y_train.shape}')\n",
    "\n",
    "# print(f'Datos de pruebas shape: {X_test.shape}')\n",
    "# print(f'Etiquetas de pruebas shape: {y_test.shape}')\n",
    "\n",
    "# print(f'Datos de validación shape: {X_val.shape}')\n",
    "# print(f'Etiquetas de validación shape: {y_val.shape}')\n",
    "\n",
    "# Datos de entrenamiento shape: (460, 244, 224, 3)\n",
    "# Etiquetas de entrenamiento shape: (460, 2)\n",
    "# Datos de pruebas shape: (153, 244, 224, 3)\n",
    "# Etiquetas de pruebas shape: (153, 2)\n",
    "# Datos de validación shape: (154, 244, 224, 3)\n",
    "# Etiquetas de validación shape: (154, 2)\n",
    "\n"
   ]
  },
  {
   "cell_type": "code",
   "execution_count": 13,
   "metadata": {},
   "outputs": [
    {
     "data": {
      "text/plain": [
       "(460, 224, 224, 3)"
      ]
     },
     "execution_count": 13,
     "metadata": {},
     "output_type": "execute_result"
    }
   ],
   "source": [
    "X_train.shape"
   ]
  },
  {
   "cell_type": "markdown",
   "metadata": {},
   "source": [
    "# VGG16"
   ]
  },
  {
   "cell_type": "code",
   "execution_count": 14,
   "metadata": {},
   "outputs": [
    {
     "name": "stdout",
     "output_type": "stream",
     "text": [
      "Downloading data from https://storage.googleapis.com/tensorflow/keras-applications/vgg16/vgg16_weights_tf_dim_ordering_tf_kernels_notop.h5\n",
      "58889256/58889256 [==============================] - 1s 0us/step\n",
      "Model: \"model\"\n",
      "_________________________________________________________________\n",
      " Layer (type)                Output Shape              Param #   \n",
      "=================================================================\n",
      " input_2 (InputLayer)        [(None, 224, 224, 3)]     0         \n",
      "                                                                 \n",
      " tf.__operators__.getitem (S  (None, 224, 224, 3)      0         \n",
      " licingOpLambda)                                                 \n",
      "                                                                 \n",
      " tf.nn.bias_add (TFOpLambda)  (None, 224, 224, 3)      0         \n",
      "                                                                 \n",
      " vgg16 (Functional)          (None, 512)               14714688  \n",
      "                                                                 \n",
      " flatten (Flatten)           (None, 512)               0         \n",
      "                                                                 \n",
      " dense (Dense)               (None, 256)               131328    \n",
      "                                                                 \n",
      " dropout (Dropout)           (None, 256)               0         \n",
      "                                                                 \n",
      " dense_1 (Dense)             (None, 128)               32896     \n",
      "                                                                 \n",
      " dropout_1 (Dropout)         (None, 128)               0         \n",
      "                                                                 \n",
      " dense_2 (Dense)             (None, 64)                8256      \n",
      "                                                                 \n",
      " dense_3 (Dense)             (None, 2)                 130       \n",
      "                                                                 \n",
      "=================================================================\n",
      "Total params: 14,887,298\n",
      "Trainable params: 14,887,298\n",
      "Non-trainable params: 0\n",
      "_________________________________________________________________\n"
     ]
    }
   ],
   "source": [
    "modelo_vgg = vgg16(trainable=True)"
   ]
  },
  {
   "cell_type": "code",
   "execution_count": 15,
   "metadata": {},
   "outputs": [
    {
     "name": "stdout",
     "output_type": "stream",
     "text": [
      "Model: \"model\"\n",
      "_________________________________________________________________\n",
      " Layer (type)                Output Shape              Param #   \n",
      "=================================================================\n",
      " input_2 (InputLayer)        [(None, 224, 224, 3)]     0         \n",
      "                                                                 \n",
      " tf.__operators__.getitem (S  (None, 224, 224, 3)      0         \n",
      " licingOpLambda)                                                 \n",
      "                                                                 \n",
      " tf.nn.bias_add (TFOpLambda)  (None, 224, 224, 3)      0         \n",
      "                                                                 \n",
      " vgg16 (Functional)          (None, 512)               14714688  \n",
      "                                                                 \n",
      " flatten (Flatten)           (None, 512)               0         \n",
      "                                                                 \n",
      " dense (Dense)               (None, 256)               131328    \n",
      "                                                                 \n",
      " dropout (Dropout)           (None, 256)               0         \n",
      "                                                                 \n",
      " dense_1 (Dense)             (None, 128)               32896     \n",
      "                                                                 \n",
      " dropout_1 (Dropout)         (None, 128)               0         \n",
      "                                                                 \n",
      " dense_2 (Dense)             (None, 64)                8256      \n",
      "                                                                 \n",
      " dense_3 (Dense)             (None, 2)                 130       \n",
      "                                                                 \n",
      "=================================================================\n",
      "Total params: 14,887,298\n",
      "Trainable params: 14,887,298\n",
      "Non-trainable params: 0\n",
      "_________________________________________________________________\n"
     ]
    },
    {
     "name": "stderr",
     "output_type": "stream",
     "text": [
      "c:\\Users\\leo_d\\anaconda3\\envs\\mirtools\\lib\\site-packages\\visualkeras\\layered.py:86: UserWarning: The legend_text_spacing_offset parameter is deprecated and will be removed in a future release.\n",
      "  warnings.warn(\"The legend_text_spacing_offset parameter is deprecated and will be removed in a future release.\")\n"
     ]
    }
   ],
   "source": [
    "exp = My_nn(X_train=X_train,y_train=y_train,\n",
    "            X_test=X_test,y_test=y_test,\n",
    "            X_val=X_val,y_val=y_val,\n",
    "            model=modelo_vgg)"
   ]
  },
  {
   "cell_type": "code",
   "execution_count": 16,
   "metadata": {},
   "outputs": [
    {
     "name": "stdout",
     "output_type": "stream",
     "text": [
      "Epoch 1/20\n",
      "29/29 [==============================] - 203s 7s/step - loss: 110.0154 - mae: 2.1965 - val_loss: 0.1743 - val_mae: 0.3830\n",
      "Epoch 2/20\n",
      "29/29 [==============================] - 272s 9s/step - loss: 0.2306 - mae: 0.3915 - val_loss: 0.0446 - val_mae: 0.1776\n",
      "Epoch 3/20\n",
      "29/29 [==============================] - 236s 8s/step - loss: 0.0673 - mae: 0.2098 - val_loss: 0.0314 - val_mae: 0.1482\n",
      "Epoch 4/20\n",
      "29/29 [==============================] - 245s 8s/step - loss: 0.0483 - mae: 0.1786 - val_loss: 0.0337 - val_mae: 0.1572\n",
      "Epoch 5/20\n",
      "29/29 [==============================] - 219s 8s/step - loss: 0.0468 - mae: 0.1762 - val_loss: 0.0297 - val_mae: 0.1410\n",
      "Epoch 6/20\n",
      "29/29 [==============================] - 212s 7s/step - loss: 0.0443 - mae: 0.1717 - val_loss: 0.0301 - val_mae: 0.1432\n",
      "Epoch 7/20\n",
      "29/29 [==============================] - 213s 7s/step - loss: 0.0422 - mae: 0.1662 - val_loss: 0.0305 - val_mae: 0.1463\n",
      "Epoch 8/20\n",
      "29/29 [==============================] - 194s 7s/step - loss: 0.0460 - mae: 0.1747 - val_loss: 0.0297 - val_mae: 0.1424\n",
      "Epoch 9/20\n",
      "29/29 [==============================] - 217s 8s/step - loss: 0.0480 - mae: 0.1789 - val_loss: 0.0301 - val_mae: 0.1454\n",
      "Epoch 10/20\n",
      "29/29 [==============================] - 188s 6s/step - loss: 0.0411 - mae: 0.1644 - val_loss: 0.0299 - val_mae: 0.1428\n",
      "Epoch 11/20\n",
      "29/29 [==============================] - 208s 7s/step - loss: 0.0398 - mae: 0.1620 - val_loss: 0.0351 - val_mae: 0.1603\n",
      "Epoch 12/20\n",
      "29/29 [==============================] - 207s 7s/step - loss: 0.0458 - mae: 0.1753 - val_loss: 0.0348 - val_mae: 0.1587\n",
      "Epoch 13/20\n",
      "29/29 [==============================] - 229s 8s/step - loss: 0.0399 - mae: 0.1657 - val_loss: 0.0334 - val_mae: 0.1559\n",
      "Epoch 14/20\n",
      "29/29 [==============================] - 234s 8s/step - loss: 0.0405 - mae: 0.1656 - val_loss: 0.0293 - val_mae: 0.1415\n",
      "Epoch 15/20\n",
      "29/29 [==============================] - 208s 7s/step - loss: 0.0393 - mae: 0.1612 - val_loss: 0.0350 - val_mae: 0.1602\n",
      "Epoch 16/20\n",
      "29/29 [==============================] - 221s 8s/step - loss: 0.0408 - mae: 0.1676 - val_loss: 0.0296 - val_mae: 0.1403\n",
      "Epoch 17/20\n",
      "29/29 [==============================] - 225s 8s/step - loss: 0.0397 - mae: 0.1649 - val_loss: 0.0317 - val_mae: 0.1433\n",
      "Epoch 18/20\n",
      "29/29 [==============================] - 239s 8s/step - loss: 0.0391 - mae: 0.1606 - val_loss: 0.0323 - val_mae: 0.1532\n",
      "Epoch 19/20\n",
      "29/29 [==============================] - 242s 8s/step - loss: 0.0392 - mae: 0.1629 - val_loss: 0.0301 - val_mae: 0.1438\n",
      "Epoch 20/20\n",
      "29/29 [==============================] - 166s 6s/step - loss: 0.0388 - mae: 0.1606 - val_loss: 0.0344 - val_mae: 0.1589\n"
     ]
    }
   ],
   "source": [
    "hist = exp.train()"
   ]
  },
  {
   "cell_type": "code",
   "execution_count": 17,
   "metadata": {},
   "outputs": [
    {
     "data": {
      "image/png": "[encoded data removed]",
      "text/plain": [
       "<Figure size 1200x600 with 2 Axes>"
      ]
     },
     "metadata": {},
     "output_type": "display_data"
    }
   ],
   "source": [
    "exp.show_loss_history(hist)"
   ]
  },
  {
   "cell_type": "code",
   "execution_count": 18,
   "metadata": {},
   "outputs": [
    {
     "name": "stdout",
     "output_type": "stream",
     "text": [
      "5/5 - 16s - loss: 0.0361 - mae: 0.1615 - 16s/epoch - 3s/step\n",
      "0.03609735146164894\n",
      "0.1615343689918518\n"
     ]
    }
   ],
   "source": [
    "loss,mae = exp.evaluate()\n",
    "print(loss)\n",
    "print(mae)"
   ]
  },
  {
   "cell_type": "code",
   "execution_count": 19,
   "metadata": {},
   "outputs": [
    {
     "name": "stdout",
     "output_type": "stream",
     "text": [
      "5/5 [==============================] - 16s 3s/step\n",
      "(154, 2)\n"
     ]
    }
   ],
   "source": [
    "y_pred = exp.recognize()\n",
    "print(y_pred.shape)"
   ]
  },
  {
   "cell_type": "code",
   "execution_count": 20,
   "metadata": {},
   "outputs": [
    {
     "name": "stdout",
     "output_type": "stream",
     "text": [
      "Mean Squared Error (MSE): 0.03609735659078778\n",
      "Mean Absolute Error (MAE): 0.1615343578168635\n",
      "R-squared (R2): -555168.4738385638\n"
     ]
    }
   ],
   "source": [
    "reporte = exp.get_report(y_true=y_test,y_pred=y_pred)\n",
    "for k in reporte:\n",
    "    print(f'{k}: {reporte[k]}')"
   ]
  },
  {
   "cell_type": "code",
   "execution_count": 21,
   "metadata": {},
   "outputs": [
    {
     "name": "stdout",
     "output_type": "stream",
     "text": [
      "[[0.6        0.65      ]\n",
      " [0.275      0.55      ]\n",
      " [0.5875     0.625     ]\n",
      " [0.7        0.7375    ]\n",
      " [0.375      0.4625    ]\n",
      " [0.475      0.525     ]\n",
      " [0.65       0.75      ]\n",
      " [0.7375     0.75      ]\n",
      " [0.6125     0.8375    ]\n",
      " [0.7125     0.7375    ]\n",
      " [0.5875     0.7125    ]\n",
      " [0.6625     0.725     ]\n",
      " [0.8125     0.95      ]\n",
      " [0.5125     0.6       ]\n",
      " [0.7375     0.9625    ]\n",
      " [0.5375     0.575     ]\n",
      " [0.725      0.7375    ]\n",
      " [0.675      0.6875    ]\n",
      " [0.65       0.7       ]\n",
      " [0.4375     0.5       ]\n",
      " [0.2875     0.3125    ]\n",
      " [0.40909091 0.42045455]\n",
      " [0.325      0.4375    ]\n",
      " [0.76136364 0.78409091]\n",
      " [0.3625     0.5625    ]\n",
      " [0.7375     0.8125    ]\n",
      " [0.7375     0.8375    ]\n",
      " [0.775      0.85      ]\n",
      " [0.5875     0.725     ]\n",
      " [0.7875     0.8625    ]\n",
      " [0.4125     0.5       ]\n",
      " [0.575      0.9       ]\n",
      " [0.725      0.75      ]\n",
      " [0.6875     0.7       ]\n",
      " [0.6375     0.825     ]\n",
      " [0.3        0.3125    ]\n",
      " [0.40909091 0.48863636]\n",
      " [0.5125     0.65      ]\n",
      " [0.55       0.6625    ]\n",
      " [0.5        0.575     ]\n",
      " [0.7625     0.825     ]\n",
      " [0.3375     0.4375    ]\n",
      " [0.3        0.6       ]\n",
      " [0.575      0.6875    ]\n",
      " [0.7625     0.825     ]\n",
      " [0.5        0.625     ]\n",
      " [0.3625     0.5375    ]\n",
      " [0.7125     0.7125    ]\n",
      " [0.375      0.3875    ]\n",
      " [0.725      0.8375    ]\n",
      " [0.55       0.8875    ]\n",
      " [0.625      0.6375    ]\n",
      " [0.6375     0.825     ]\n",
      " [0.6875     0.7       ]\n",
      " [0.8625     0.8875    ]\n",
      " [0.5        0.6       ]\n",
      " [0.7625     0.9       ]\n",
      " [0.4875     0.7       ]\n",
      " [0.4625     0.55      ]\n",
      " [0.7875     0.9       ]\n",
      " [0.3375     0.625     ]\n",
      " [0.6875     0.725     ]\n",
      " [0.4        0.4875    ]\n",
      " [0.5        0.5875    ]\n",
      " [0.65       0.6625    ]\n",
      " [0.6125     0.775     ]\n",
      " [0.8125     0.85      ]\n",
      " [0.5875     0.7625    ]\n",
      " [0.675      0.7125    ]\n",
      " [0.63636364 0.76136364]\n",
      " [0.3375     0.425     ]\n",
      " [0.7875     0.8375    ]\n",
      " [0.775      0.875     ]\n",
      " [0.5625     0.65      ]\n",
      " [0.3875     0.4375    ]\n",
      " [0.3        0.3125    ]\n",
      " [0.6875     0.75      ]\n",
      " [0.7625     0.825     ]\n",
      " [0.4875     0.55      ]\n",
      " [0.5375     0.6875    ]\n",
      " [0.5        0.7375    ]\n",
      " [0.725      0.85      ]\n",
      " [0.425      0.475     ]\n",
      " [0.7625     0.8625    ]\n",
      " [0.3875     0.575     ]\n",
      " [0.6875     0.75      ]\n",
      " [0.7375     0.9       ]\n",
      " [0.625      0.7375    ]\n",
      " [0.5125     0.7625    ]\n",
      " [0.4        0.6375    ]\n",
      " [0.425      0.5125    ]\n",
      " [0.675      0.875     ]\n",
      " [0.6125     0.6625    ]\n",
      " [0.65       0.675     ]\n",
      " [0.3375     0.4125    ]\n",
      " [0.5625     0.575     ]\n",
      " [0.5875     0.8375    ]\n",
      " [0.7875     0.8625    ]\n",
      " [0.525      0.5625    ]\n",
      " [0.725      0.775     ]\n",
      " [0.4875     0.6375    ]\n",
      " [0.625      0.7       ]\n",
      " [0.5625     0.625     ]\n",
      " [0.575      0.65      ]\n",
      " [0.825      0.8875    ]\n",
      " [0.6375     0.725     ]\n",
      " [0.775      0.8625    ]\n",
      " [0.6        0.6625    ]\n",
      " [0.525      0.5875    ]\n",
      " [0.4        0.4625    ]\n",
      " [0.7625     0.8       ]\n",
      " [0.7125     0.7625    ]\n",
      " [0.6625     0.725     ]\n",
      " [0.6875     0.7375    ]\n",
      " [0.25       0.325     ]\n",
      " [0.7375     0.7625    ]\n",
      " [0.7375     0.8625    ]\n",
      " [0.5875     0.6875    ]\n",
      " [0.4125     0.45      ]\n",
      " [0.775      0.8       ]\n",
      " [0.6125     0.625     ]\n",
      " [0.5375     0.6       ]\n",
      " [0.725      0.85      ]\n",
      " [0.3875     0.5125    ]\n",
      " [0.3125     0.425     ]\n",
      " [0.7875     0.8875    ]\n",
      " [0.6        0.775     ]\n",
      " [0.8625     0.8625    ]\n",
      " [0.575      0.6875    ]\n",
      " [0.5625     0.7       ]\n",
      " [0.775      0.8875    ]\n",
      " [0.475      0.9       ]\n",
      " [0.4125     0.525     ]\n",
      " [0.475      0.525     ]\n",
      " [0.7125     0.7375    ]\n",
      " [0.425      0.4875    ]\n",
      " [0.7375     0.85      ]\n",
      " [0.4875     0.625     ]\n",
      " [0.7625     0.8125    ]\n",
      " [0.55       0.775     ]\n",
      " [0.775      0.775     ]\n",
      " [0.5125     0.525     ]\n",
      " [0.725      0.825     ]\n",
      " [0.725      0.7375    ]\n",
      " [0.3125     0.4375    ]\n",
      " [0.3875     0.4       ]\n",
      " [0.275      0.35      ]\n",
      " [0.775      0.875     ]\n",
      " [0.425      0.4875    ]\n",
      " [0.5        0.5125    ]\n",
      " [0.7625     0.8       ]\n",
      " [0.5625     0.65      ]\n",
      " [0.725      0.7625    ]\n",
      " [0.6625     0.7375    ]]\n"
     ]
    }
   ],
   "source": [
    "print(np.sort(y_test))"
   ]
  },
  {
   "cell_type": "code",
   "execution_count": 22,
   "metadata": {},
   "outputs": [
    {
     "name": "stdout",
     "output_type": "stream",
     "text": [
      "[[0.5252003  0.54366744]\n",
      " [0.5248155  0.54322344]\n",
      " [0.52511805 0.5435988 ]\n",
      " [0.5246119  0.54285896]\n",
      " [0.5246956  0.54298323]\n",
      " [0.5245626  0.5429588 ]\n",
      " [0.524656   0.5429151 ]\n",
      " [0.52427405 0.5426104 ]\n",
      " [0.52478576 0.5431886 ]\n",
      " [0.5247932  0.5432179 ]\n",
      " [0.5245085  0.54275185]\n",
      " [0.5248533  0.5432774 ]\n",
      " [0.52460116 0.5428678 ]\n",
      " [0.52519953 0.54360974]\n",
      " [0.5245651  0.5427979 ]\n",
      " [0.5249023  0.5432291 ]\n",
      " [0.5244878  0.5428633 ]\n",
      " [0.5249543  0.54342157]\n",
      " [0.5247991  0.5432854 ]\n",
      " [0.5249161  0.5433662 ]\n",
      " [0.5248678  0.5432184 ]\n",
      " [0.52482975 0.54321635]\n",
      " [0.5247692  0.54316986]\n",
      " [0.5248963  0.5433817 ]\n",
      " [0.52458245 0.54300773]\n",
      " [0.52451724 0.54292166]\n",
      " [0.52504146 0.5434069 ]\n",
      " [0.5244464  0.54282594]\n",
      " [0.5248752  0.5433148 ]\n",
      " [0.52476877 0.5430614 ]\n",
      " [0.5249342  0.54338336]\n",
      " [0.52470046 0.54310626]\n",
      " [0.52454954 0.54292285]\n",
      " [0.52454764 0.54288316]\n",
      " [0.5250103  0.543367  ]\n",
      " [0.52480084 0.54327714]\n",
      " [0.5244746  0.54289514]\n",
      " [0.5244341  0.5428185 ]\n",
      " [0.52496773 0.54341936]\n",
      " [0.5252146  0.5436283 ]\n",
      " [0.5246609  0.54292035]\n",
      " [0.52520734 0.54365563]\n",
      " [0.5249533  0.5433973 ]\n",
      " [0.5247613  0.54305005]\n",
      " [0.5248515  0.54316413]\n",
      " [0.5245772  0.542941  ]\n",
      " [0.52482325 0.5432385 ]\n",
      " [0.52477473 0.54306865]\n",
      " [0.5251014  0.5435108 ]\n",
      " [0.52487576 0.5432662 ]\n",
      " [0.5246489  0.5429051 ]\n",
      " [0.52488345 0.5432127 ]\n",
      " [0.52487946 0.5432394 ]\n",
      " [0.52476364 0.5432141 ]\n",
      " [0.52434874 0.5426705 ]\n",
      " [0.52505773 0.5434307 ]\n",
      " [0.52464217 0.54289794]\n",
      " [0.5247026  0.54315203]\n",
      " [0.5249948  0.54334724]\n",
      " [0.5244946  0.5428374 ]\n",
      " [0.52504593 0.54350877]\n",
      " [0.52458715 0.5429214 ]\n",
      " [0.5246575  0.5430816 ]\n",
      " [0.52468604 0.54295266]\n",
      " [0.52526873 0.5438794 ]\n",
      " [0.52457756 0.5430008 ]\n",
      " [0.5245171  0.5428187 ]\n",
      " [0.5251543  0.54355955]\n",
      " [0.5246943  0.54310024]\n",
      " [0.5248414  0.54323757]\n",
      " [0.52511424 0.54350007]\n",
      " [0.524498   0.5429129 ]\n",
      " [0.5247315  0.54317725]\n",
      " [0.5247179  0.54300886]\n",
      " [0.5250973  0.54349446]\n",
      " [0.52526766 0.5437255 ]\n",
      " [0.5247661  0.5430832 ]\n",
      " [0.52495444 0.5432957 ]\n",
      " [0.52488    0.5433291 ]\n",
      " [0.52481586 0.5431718 ]\n",
      " [0.5246697  0.54295546]\n",
      " [0.5247433  0.5431243 ]\n",
      " [0.5248643  0.5432774 ]\n",
      " [0.52484703 0.54315853]\n",
      " [0.5252432  0.543732  ]\n",
      " [0.52473766 0.5430185 ]\n",
      " [0.5245258  0.5429299 ]\n",
      " [0.5244414  0.5426743 ]\n",
      " [0.5244703  0.5428293 ]\n",
      " [0.52471024 0.54303277]\n",
      " [0.52518076 0.54358494]\n",
      " [0.52498734 0.54349756]\n",
      " [0.5246225  0.542981  ]\n",
      " [0.5248121  0.54334354]\n",
      " [0.52502817 0.5434717 ]\n",
      " [0.52521527 0.54363024]\n",
      " [0.5244836  0.542804  ]\n",
      " [0.52485347 0.5431792 ]\n",
      " [0.5244986  0.5427129 ]\n",
      " [0.5250484  0.5434184 ]\n",
      " [0.5251375  0.54353   ]\n",
      " [0.5246858  0.5431187 ]\n",
      " [0.5247354  0.5431585 ]\n",
      " [0.52452725 0.5428847 ]\n",
      " [0.5245394  0.54295516]\n",
      " [0.52450407 0.5428994 ]\n",
      " [0.5246717  0.54293424]\n",
      " [0.52483    0.5432786 ]\n",
      " [0.5248161  0.5432167 ]\n",
      " [0.524687   0.54296875]\n",
      " [0.5249502  0.54347205]\n",
      " [0.5252921  0.54386806]\n",
      " [0.52446204 0.54287064]\n",
      " [0.52458185 0.5429561 ]\n",
      " [0.5251828  0.54362917]\n",
      " [0.5247981  0.5432364 ]\n",
      " [0.52484256 0.5431701 ]\n",
      " [0.52476656 0.54305553]\n",
      " [0.52482027 0.54326683]\n",
      " [0.5248524  0.5432875 ]\n",
      " [0.52477986 0.54308915]\n",
      " [0.5247641  0.54321146]\n",
      " [0.5247665  0.5431738 ]\n",
      " [0.5252263  0.5436731 ]\n",
      " [0.5251604  0.5436348 ]\n",
      " [0.52483255 0.5432161 ]\n",
      " [0.5248731  0.54333615]\n",
      " [0.5247889  0.5432493 ]\n",
      " [0.5251739  0.54357636]\n",
      " [0.5246447  0.54290086]\n",
      " [0.52491283 0.5432433 ]\n",
      " [0.5241061  0.5424691 ]\n",
      " [0.5249907  0.543342  ]\n",
      " [0.5245089  0.54284877]\n",
      " [0.52481866 0.54312205]\n",
      " [0.5243686  0.5427331 ]\n",
      " [0.5244825  0.54277694]\n",
      " [0.5246463  0.54290175]\n",
      " [0.5247262  0.5431826 ]\n",
      " [0.52410525 0.5424228 ]\n",
      " [0.52448064 0.54269004]\n",
      " [0.5246546  0.54311174]\n",
      " [0.52470547 0.543086  ]\n",
      " [0.52455425 0.54292107]\n",
      " [0.5247215  0.54320097]\n",
      " [0.5247998  0.5432508 ]\n",
      " [0.524765   0.54325694]\n",
      " [0.5244253  0.54274905]\n",
      " [0.5250024  0.54345345]\n",
      " [0.5249408  0.5434252 ]\n",
      " [0.52474266 0.54316765]\n",
      " [0.52473086 0.5431794 ]\n",
      " [0.5244172  0.54278624]\n",
      " [0.5242555  0.54259396]]\n"
     ]
    }
   ],
   "source": [
    "print(np.sort(y_pred))"
   ]
  },
  {
   "cell_type": "code",
   "execution_count": 23,
   "metadata": {},
   "outputs": [],
   "source": [
    "exp.model_name = 'vgg16_chroma_m'\n",
    "exp.save_model()"
   ]
  }
 ],
 "metadata": {
  "kernelspec": {
   "display_name": "mirtools",
   "language": "python",
   "name": "python3"
  },
  "language_info": {
   "codemirror_mode": {
    "name": "ipython",
    "version": 3
   },
   "file_extension": ".py",
   "mimetype": "text/x-python",
   "name": "python",
   "nbconvert_exporter": "python",
   "pygments_lexer": "ipython3",
   "version": "3.8.19"
  }
 },
 "nbformat": 4,
 "nbformat_minor": 2
}
