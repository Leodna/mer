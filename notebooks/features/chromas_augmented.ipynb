{
 "cells": [
  {
   "cell_type": "code",
   "execution_count": 50,
   "metadata": {},
   "outputs": [],
   "source": [
    "import os\n",
    "import pandas as pd\n",
    "import numpy as np\n",
    "import matplotlib.pylab as plt\n",
    "import seaborn as sns\n",
    "import time\n",
    "import pickle\n",
    "import h5py\n",
    "\n",
    "import librosa\n",
    "import librosa.display\n",
    "\n",
    "from dotenv import load_dotenv\n",
    "from my_functions.my_fun import *\n"
   ]
  },
  {
   "cell_type": "code",
   "execution_count": 54,
   "metadata": {},
   "outputs": [],
   "source": [
    "load_dotenv()\n",
    "\n",
    "META_DIR = os.getenv('PMEMO_META')\n",
    "aux_dir = META_DIR.split('.')[0]\n",
    "META_DIR =f'{aux_dir}_total.csv'\n",
    "\n",
    "ANOTATION_DIR = os.getenv('PMEMO_ANOTATIONS')\n",
    "ANOTATION_DIR = os.path.join(ANOTATION_DIR,'agumented.csv')\n",
    "\n",
    "ASSETS_DIR = os.getenv('ASSETS_DIR')"
   ]
  },
  {
   "cell_type": "code",
   "execution_count": 3,
   "metadata": {},
   "outputs": [],
   "source": [
    "if not os.path.exists(META_DIR):\n",
    "    print('El archivo con la meta información no existe')\n",
    "    \n",
    "if not os.path.exists(ANOTATION_DIR):\n",
    "    print('El archivo con anotaciones no existe')"
   ]
  },
  {
   "cell_type": "markdown",
   "metadata": {},
   "source": [
    "# Cargar audios y metadatos"
   ]
  },
  {
   "cell_type": "code",
   "execution_count": 4,
   "metadata": {},
   "outputs": [
    {
     "data": {
      "text/html": [
       "<div>\n",
       "<style scoped>\n",
       "    .dataframe tbody tr th:only-of-type {\n",
       "        vertical-align: middle;\n",
       "    }\n",
       "\n",
       "    .dataframe tbody tr th {\n",
       "        vertical-align: top;\n",
       "    }\n",
       "\n",
       "    .dataframe thead th {\n",
       "        text-align: right;\n",
       "    }\n",
       "</style>\n",
       "<table border=\"1\" class=\"dataframe\">\n",
       "  <thead>\n",
       "    <tr style=\"text-align: right;\">\n",
       "      <th></th>\n",
       "      <th>musicId</th>\n",
       "      <th>fileName</th>\n",
       "      <th>title</th>\n",
       "      <th>artist</th>\n",
       "      <th>album</th>\n",
       "      <th>duration</th>\n",
       "      <th>chorus_start_time</th>\n",
       "      <th>chorus_end_time</th>\n",
       "    </tr>\n",
       "  </thead>\n",
       "  <tbody>\n",
       "    <tr>\n",
       "      <th>0</th>\n",
       "      <td>1</td>\n",
       "      <td>1.mp3</td>\n",
       "      <td>Good Drank</td>\n",
       "      <td>2 Chainz</td>\n",
       "      <td>Def Jam Presents: Direct Deposit, Vol. 2</td>\n",
       "      <td>32.10</td>\n",
       "      <td>02:35</td>\n",
       "      <td>03:05</td>\n",
       "    </tr>\n",
       "    <tr>\n",
       "      <th>1</th>\n",
       "      <td>4</td>\n",
       "      <td>4.mp3</td>\n",
       "      <td>X Bitch (feat. Future)</td>\n",
       "      <td>21 Savage</td>\n",
       "      <td>Savage Mode</td>\n",
       "      <td>28.09</td>\n",
       "      <td>03:00</td>\n",
       "      <td>03:26</td>\n",
       "    </tr>\n",
       "    <tr>\n",
       "      <th>2</th>\n",
       "      <td>5</td>\n",
       "      <td>5.mp3</td>\n",
       "      <td>No Heart</td>\n",
       "      <td>21 Savage</td>\n",
       "      <td>Savage Mode</td>\n",
       "      <td>84.23</td>\n",
       "      <td>00:41</td>\n",
       "      <td>02:03</td>\n",
       "    </tr>\n",
       "    <tr>\n",
       "      <th>3</th>\n",
       "      <td>6</td>\n",
       "      <td>6.mp3</td>\n",
       "      <td>Red Opps</td>\n",
       "      <td>21 Savage</td>\n",
       "      <td>Red Opps</td>\n",
       "      <td>29.53</td>\n",
       "      <td>02:16</td>\n",
       "      <td>02:44</td>\n",
       "    </tr>\n",
       "    <tr>\n",
       "      <th>4</th>\n",
       "      <td>7</td>\n",
       "      <td>7.mp3</td>\n",
       "      <td>Girls Talk Boys</td>\n",
       "      <td>5 Seconds Of Summer</td>\n",
       "      <td>Ghostbusters (Original Motion Picture Soundtrack)</td>\n",
       "      <td>29.11</td>\n",
       "      <td>02:30</td>\n",
       "      <td>02:57</td>\n",
       "    </tr>\n",
       "  </tbody>\n",
       "</table>\n",
       "</div>"
      ],
      "text/plain": [
       "   musicId fileName                   title               artist  \\\n",
       "0        1    1.mp3              Good Drank             2 Chainz   \n",
       "1        4    4.mp3  X Bitch (feat. Future)            21 Savage   \n",
       "2        5    5.mp3                No Heart            21 Savage   \n",
       "3        6    6.mp3                Red Opps            21 Savage   \n",
       "4        7    7.mp3         Girls Talk Boys  5 Seconds Of Summer   \n",
       "\n",
       "                                               album  duration  \\\n",
       "0           Def Jam Presents: Direct Deposit, Vol. 2     32.10   \n",
       "1                                        Savage Mode     28.09   \n",
       "2                                        Savage Mode     84.23   \n",
       "3                                           Red Opps     29.53   \n",
       "4  Ghostbusters (Original Motion Picture Soundtrack)     29.11   \n",
       "\n",
       "  chorus_start_time chorus_end_time  \n",
       "0             02:35           03:05  \n",
       "1             03:00           03:26  \n",
       "2             00:41           02:03  \n",
       "3             02:16           02:44  \n",
       "4             02:30           02:57  "
      ]
     },
     "execution_count": 4,
     "metadata": {},
     "output_type": "execute_result"
    }
   ],
   "source": [
    "pmemo_meta = pd.read_csv(META_DIR)\n",
    "pmemo_meta.head(5)\n"
   ]
  },
  {
   "cell_type": "code",
   "execution_count": 5,
   "metadata": {},
   "outputs": [
    {
     "data": {
      "text/html": [
       "<div>\n",
       "<style scoped>\n",
       "    .dataframe tbody tr th:only-of-type {\n",
       "        vertical-align: middle;\n",
       "    }\n",
       "\n",
       "    .dataframe tbody tr th {\n",
       "        vertical-align: top;\n",
       "    }\n",
       "\n",
       "    .dataframe thead th {\n",
       "        text-align: right;\n",
       "    }\n",
       "</style>\n",
       "<table border=\"1\" class=\"dataframe\">\n",
       "  <thead>\n",
       "    <tr style=\"text-align: right;\">\n",
       "      <th></th>\n",
       "      <th>musicId</th>\n",
       "      <th>Arousal(mean)</th>\n",
       "      <th>Valence(mean)</th>\n",
       "    </tr>\n",
       "  </thead>\n",
       "  <tbody>\n",
       "    <tr>\n",
       "      <th>count</th>\n",
       "      <td>4602.000000</td>\n",
       "      <td>4602.000000</td>\n",
       "      <td>4602.000000</td>\n",
       "    </tr>\n",
       "    <tr>\n",
       "      <th>mean</th>\n",
       "      <td>493.770535</td>\n",
       "      <td>0.622355</td>\n",
       "      <td>0.596581</td>\n",
       "    </tr>\n",
       "    <tr>\n",
       "      <th>std</th>\n",
       "      <td>285.802745</td>\n",
       "      <td>0.184712</td>\n",
       "      <td>0.161898</td>\n",
       "    </tr>\n",
       "    <tr>\n",
       "      <th>min</th>\n",
       "      <td>1.000000</td>\n",
       "      <td>0.087500</td>\n",
       "      <td>0.125000</td>\n",
       "    </tr>\n",
       "    <tr>\n",
       "      <th>25%</th>\n",
       "      <td>238.000000</td>\n",
       "      <td>0.500000</td>\n",
       "      <td>0.487500</td>\n",
       "    </tr>\n",
       "    <tr>\n",
       "      <th>50%</th>\n",
       "      <td>495.000000</td>\n",
       "      <td>0.650000</td>\n",
       "      <td>0.625000</td>\n",
       "    </tr>\n",
       "    <tr>\n",
       "      <th>75%</th>\n",
       "      <td>740.000000</td>\n",
       "      <td>0.762500</td>\n",
       "      <td>0.725000</td>\n",
       "    </tr>\n",
       "    <tr>\n",
       "      <th>max</th>\n",
       "      <td>1000.000000</td>\n",
       "      <td>0.975000</td>\n",
       "      <td>0.912500</td>\n",
       "    </tr>\n",
       "  </tbody>\n",
       "</table>\n",
       "</div>"
      ],
      "text/plain": [
       "           musicId  Arousal(mean)  Valence(mean)\n",
       "count  4602.000000    4602.000000    4602.000000\n",
       "mean    493.770535       0.622355       0.596581\n",
       "std     285.802745       0.184712       0.161898\n",
       "min       1.000000       0.087500       0.125000\n",
       "25%     238.000000       0.500000       0.487500\n",
       "50%     495.000000       0.650000       0.625000\n",
       "75%     740.000000       0.762500       0.725000\n",
       "max    1000.000000       0.975000       0.912500"
      ]
     },
     "execution_count": 5,
     "metadata": {},
     "output_type": "execute_result"
    }
   ],
   "source": [
    "labels_df = pd.read_csv(ANOTATION_DIR)\n",
    "del labels_df['Unnamed: 0']\n",
    "labels_df.describe()"
   ]
  },
  {
   "cell_type": "code",
   "execution_count": 6,
   "metadata": {},
   "outputs": [
    {
     "data": {
      "text/html": [
       "<div>\n",
       "<style scoped>\n",
       "    .dataframe tbody tr th:only-of-type {\n",
       "        vertical-align: middle;\n",
       "    }\n",
       "\n",
       "    .dataframe tbody tr th {\n",
       "        vertical-align: top;\n",
       "    }\n",
       "\n",
       "    .dataframe thead th {\n",
       "        text-align: right;\n",
       "    }\n",
       "</style>\n",
       "<table border=\"1\" class=\"dataframe\">\n",
       "  <thead>\n",
       "    <tr style=\"text-align: right;\">\n",
       "      <th></th>\n",
       "      <th>musicId</th>\n",
       "      <th>Arousal</th>\n",
       "      <th>Valence</th>\n",
       "      <th>isAugmented</th>\n",
       "      <th>info</th>\n",
       "      <th>audioDir</th>\n",
       "    </tr>\n",
       "  </thead>\n",
       "  <tbody>\n",
       "    <tr>\n",
       "      <th>4590</th>\n",
       "      <td>999</td>\n",
       "      <td>0.8750</td>\n",
       "      <td>0.775</td>\n",
       "      <td>False</td>\n",
       "      <td>Source file</td>\n",
       "      <td>E:\\python_proy\\mer\\assets\\PMEMO\\PMEmo2019\\chor...</td>\n",
       "    </tr>\n",
       "    <tr>\n",
       "      <th>4591</th>\n",
       "      <td>999</td>\n",
       "      <td>0.8750</td>\n",
       "      <td>0.775</td>\n",
       "      <td>True</td>\n",
       "      <td>Time stretching 0.81 seconds</td>\n",
       "      <td>E:\\python_proy\\mer\\assets\\PMEMO\\PMEmo2019\\chor...</td>\n",
       "    </tr>\n",
       "    <tr>\n",
       "      <th>4592</th>\n",
       "      <td>999</td>\n",
       "      <td>0.8750</td>\n",
       "      <td>0.775</td>\n",
       "      <td>True</td>\n",
       "      <td>Time stretching 0.93 seconds</td>\n",
       "      <td>E:\\python_proy\\mer\\assets\\PMEMO\\PMEmo2019\\chor...</td>\n",
       "    </tr>\n",
       "    <tr>\n",
       "      <th>4593</th>\n",
       "      <td>999</td>\n",
       "      <td>0.8750</td>\n",
       "      <td>0.775</td>\n",
       "      <td>True</td>\n",
       "      <td>Time stretching 1.07 seconds</td>\n",
       "      <td>E:\\python_proy\\mer\\assets\\PMEMO\\PMEmo2019\\chor...</td>\n",
       "    </tr>\n",
       "    <tr>\n",
       "      <th>4594</th>\n",
       "      <td>999</td>\n",
       "      <td>0.8750</td>\n",
       "      <td>0.775</td>\n",
       "      <td>True</td>\n",
       "      <td>Time stretching 1.23 seconds</td>\n",
       "      <td>E:\\python_proy\\mer\\assets\\PMEMO\\PMEmo2019\\chor...</td>\n",
       "    </tr>\n",
       "    <tr>\n",
       "      <th>4595</th>\n",
       "      <td>999</td>\n",
       "      <td>0.8750</td>\n",
       "      <td>0.775</td>\n",
       "      <td>True</td>\n",
       "      <td>Time shifting 5 seconds</td>\n",
       "      <td>E:\\python_proy\\mer\\assets\\PMEMO\\PMEmo2019\\chor...</td>\n",
       "    </tr>\n",
       "    <tr>\n",
       "      <th>4596</th>\n",
       "      <td>1000</td>\n",
       "      <td>0.6625</td>\n",
       "      <td>0.575</td>\n",
       "      <td>False</td>\n",
       "      <td>Source file</td>\n",
       "      <td>E:\\python_proy\\mer\\assets\\PMEMO\\PMEmo2019\\chor...</td>\n",
       "    </tr>\n",
       "    <tr>\n",
       "      <th>4597</th>\n",
       "      <td>1000</td>\n",
       "      <td>0.6625</td>\n",
       "      <td>0.575</td>\n",
       "      <td>True</td>\n",
       "      <td>Time stretching 0.81 seconds</td>\n",
       "      <td>E:\\python_proy\\mer\\assets\\PMEMO\\PMEmo2019\\chor...</td>\n",
       "    </tr>\n",
       "    <tr>\n",
       "      <th>4598</th>\n",
       "      <td>1000</td>\n",
       "      <td>0.6625</td>\n",
       "      <td>0.575</td>\n",
       "      <td>True</td>\n",
       "      <td>Time stretching 0.93 seconds</td>\n",
       "      <td>E:\\python_proy\\mer\\assets\\PMEMO\\PMEmo2019\\chor...</td>\n",
       "    </tr>\n",
       "    <tr>\n",
       "      <th>4599</th>\n",
       "      <td>1000</td>\n",
       "      <td>0.6625</td>\n",
       "      <td>0.575</td>\n",
       "      <td>True</td>\n",
       "      <td>Time stretching 1.07 seconds</td>\n",
       "      <td>E:\\python_proy\\mer\\assets\\PMEMO\\PMEmo2019\\chor...</td>\n",
       "    </tr>\n",
       "    <tr>\n",
       "      <th>4600</th>\n",
       "      <td>1000</td>\n",
       "      <td>0.6625</td>\n",
       "      <td>0.575</td>\n",
       "      <td>True</td>\n",
       "      <td>Time stretching 1.23 seconds</td>\n",
       "      <td>E:\\python_proy\\mer\\assets\\PMEMO\\PMEmo2019\\chor...</td>\n",
       "    </tr>\n",
       "    <tr>\n",
       "      <th>4601</th>\n",
       "      <td>1000</td>\n",
       "      <td>0.6625</td>\n",
       "      <td>0.575</td>\n",
       "      <td>True</td>\n",
       "      <td>Time shifting 5 seconds</td>\n",
       "      <td>E:\\python_proy\\mer\\assets\\PMEMO\\PMEmo2019\\chor...</td>\n",
       "    </tr>\n",
       "  </tbody>\n",
       "</table>\n",
       "</div>"
      ],
      "text/plain": [
       "      musicId  Arousal  Valence  isAugmented                          info  \\\n",
       "4590      999   0.8750    0.775        False                   Source file   \n",
       "4591      999   0.8750    0.775         True  Time stretching 0.81 seconds   \n",
       "4592      999   0.8750    0.775         True  Time stretching 0.93 seconds   \n",
       "4593      999   0.8750    0.775         True  Time stretching 1.07 seconds   \n",
       "4594      999   0.8750    0.775         True  Time stretching 1.23 seconds   \n",
       "4595      999   0.8750    0.775         True       Time shifting 5 seconds   \n",
       "4596     1000   0.6625    0.575        False                   Source file   \n",
       "4597     1000   0.6625    0.575         True  Time stretching 0.81 seconds   \n",
       "4598     1000   0.6625    0.575         True  Time stretching 0.93 seconds   \n",
       "4599     1000   0.6625    0.575         True  Time stretching 1.07 seconds   \n",
       "4600     1000   0.6625    0.575         True  Time stretching 1.23 seconds   \n",
       "4601     1000   0.6625    0.575         True       Time shifting 5 seconds   \n",
       "\n",
       "                                               audioDir  \n",
       "4590  E:\\python_proy\\mer\\assets\\PMEMO\\PMEmo2019\\chor...  \n",
       "4591  E:\\python_proy\\mer\\assets\\PMEMO\\PMEmo2019\\chor...  \n",
       "4592  E:\\python_proy\\mer\\assets\\PMEMO\\PMEmo2019\\chor...  \n",
       "4593  E:\\python_proy\\mer\\assets\\PMEMO\\PMEmo2019\\chor...  \n",
       "4594  E:\\python_proy\\mer\\assets\\PMEMO\\PMEmo2019\\chor...  \n",
       "4595  E:\\python_proy\\mer\\assets\\PMEMO\\PMEmo2019\\chor...  \n",
       "4596  E:\\python_proy\\mer\\assets\\PMEMO\\PMEmo2019\\chor...  \n",
       "4597  E:\\python_proy\\mer\\assets\\PMEMO\\PMEmo2019\\chor...  \n",
       "4598  E:\\python_proy\\mer\\assets\\PMEMO\\PMEmo2019\\chor...  \n",
       "4599  E:\\python_proy\\mer\\assets\\PMEMO\\PMEmo2019\\chor...  \n",
       "4600  E:\\python_proy\\mer\\assets\\PMEMO\\PMEmo2019\\chor...  \n",
       "4601  E:\\python_proy\\mer\\assets\\PMEMO\\PMEmo2019\\chor...  "
      ]
     },
     "execution_count": 6,
     "metadata": {},
     "output_type": "execute_result"
    }
   ],
   "source": [
    "labels_df = labels_df.rename(columns={'Arousal(mean)':'Arousal',\n",
    "                              'Valence(mean)':'Valence'})\n",
    "\n",
    "labels_df['musicId'] = labels_df['musicId'].astype(int)\n",
    "\n",
    "labels_df.tail(12)"
   ]
  },
  {
   "cell_type": "code",
   "execution_count": 7,
   "metadata": {},
   "outputs": [
    {
     "name": "stdout",
     "output_type": "stream",
     "text": [
      "Tiempo transcurrido en la carga de audios: 196.71806979179382\n"
     ]
    }
   ],
   "source": [
    "audio_data = []\n",
    "audios_dir = labels_df['audioDir'].values\n",
    "\n",
    "start_time = time.time()\n",
    "for i,audio in enumerate(audios_dir):\n",
    "    y,sr = librosa.load(audio)\n",
    "    \n",
    "    audio_data.append([y,sr])\n",
    "\n",
    "end_time = time.time()\n",
    "elapsed_time = end_time - start_time\n",
    "print(f'Tiempo transcurrido en la carga de audios: {elapsed_time}')"
   ]
  },
  {
   "cell_type": "code",
   "execution_count": 8,
   "metadata": {},
   "outputs": [
    {
     "data": {
      "image/png": "[encoded data removed]",
      "text/plain": [
       "<Figure size 640x480 with 1 Axes>"
      ]
     },
     "metadata": {},
     "output_type": "display_data"
    }
   ],
   "source": [
    "audio_data = np.array(audio_data, dtype='object')\n",
    "\n",
    "sr_mean = int(np.mean(audio_data[:,1]))\n",
    "\n",
    "y_list = audio_data[:,0]\n",
    "y_len = np.array([len(y) for y in y_list])\n",
    "\n",
    "show_distribution(data=y_len/sr_mean,title=f'Distribución de la duración de los audios, incluye aumento de datos')\n",
    "\n"
   ]
  },
  {
   "cell_type": "markdown",
   "metadata": {},
   "source": [
    "# Generar Chromas"
   ]
  },
  {
   "cell_type": "code",
   "execution_count": 9,
   "metadata": {},
   "outputs": [
    {
     "name": "stdout",
     "output_type": "stream",
     "text": [
      "Tiempo transcurrido para la generación de chromagrams: 1309.6485528945923\n"
     ]
    }
   ],
   "source": [
    "chromas_m = []\n",
    "chromas_p = []\n",
    "\n",
    "trunk = 1637\n",
    "\n",
    "start_time = time.time()\n",
    "\n",
    "for y,sr in audio_data:\n",
    "    cp = get_chromagram(audio=y,sr=sr,power_spectrum=True,target_len = trunk)\n",
    "    cm = get_chromagram(audio=y,sr=sr,target_len=trunk)\n",
    "    \n",
    "    chromas_m.append(cm)\n",
    "    chromas_p.append(cp)\n",
    "\n",
    "end_time = time.time()\n",
    "elapsed_time = end_time-start_time\n",
    "print(f'Tiempo transcurrido para la generación de chromagrams: {elapsed_time}')"
   ]
  },
  {
   "cell_type": "code",
   "execution_count": 14,
   "metadata": {},
   "outputs": [
    {
     "name": "stdout",
     "output_type": "stream",
     "text": [
      "(4602, 12, 1637)\n",
      "(4602, 12, 1637)\n"
     ]
    }
   ],
   "source": [
    "chromas_m = np.array(chromas_m)\n",
    "print(chromas_m.shape)\n",
    "chromas_p = np.array(chromas_p)\n",
    "print(chromas_p.shape)"
   ]
  },
  {
   "cell_type": "code",
   "execution_count": 19,
   "metadata": {},
   "outputs": [
    {
     "name": "stdout",
     "output_type": "stream",
     "text": [
      "chromas chromas_m expand dim: (4602, 12, 1637, 3)\n",
      "(12, 1637, 3)\n",
      "chromas chromas_p expand dim: (4602, 12, 1637, 3)\n",
      "(12, 1637, 3)\n"
     ]
    }
   ],
   "source": [
    "ex_chromas_m =chromas_m.copy()\n",
    "ex_chromas_m = np.expand_dims(ex_chromas_m,axis=-1)\n",
    "ex_chromas_m = np.repeat(ex_chromas_m,3,axis=-1)\n",
    "print(f'chromas chromas_m expand dim: {ex_chromas_m.shape}')\n",
    "print(ex_chromas_m[0].shape)\n",
    "\n",
    "ex_chromas_p =chromas_p.copy()\n",
    "ex_chromas_p = np.expand_dims(ex_chromas_p,axis=-1)\n",
    "ex_chromas_p = np.repeat(ex_chromas_p,3,axis=-1)\n",
    "print(f'chromas chromas_p expand dim: {ex_chromas_p.shape}')\n",
    "print(ex_chromas_p[0].shape)"
   ]
  },
  {
   "cell_type": "code",
   "execution_count": 22,
   "metadata": {},
   "outputs": [
    {
     "name": "stdout",
     "output_type": "stream",
     "text": [
      "Tiempo transcurrido para re dimensionar espectrogramas: 14.135875463485718\n"
     ]
    }
   ],
   "source": [
    "start_time = time.time()\n",
    "res_chroma_m = resize_spectrogramas(ex_chromas_m,(224,224))\n",
    "res_chroma_p = resize_spectrogramas(ex_chromas_p,(224,224))\n",
    "end_time = time.time()\n",
    "elapsed_time = end_time -start_time\n",
    "print(f'Tiempo transcurrido para re dimensionar espectrogramas: {elapsed_time}')"
   ]
  },
  {
   "cell_type": "code",
   "execution_count": 24,
   "metadata": {},
   "outputs": [
    {
     "name": "stdout",
     "output_type": "stream",
     "text": [
      "(4602, 224, 224, 3)\n",
      "(4602, 224, 224, 3)\n"
     ]
    }
   ],
   "source": [
    "print(res_chroma_p.shape)\n",
    "print(res_chroma_m.shape)"
   ]
  },
  {
   "cell_type": "code",
   "execution_count": 26,
   "metadata": {},
   "outputs": [
    {
     "name": "stdout",
     "output_type": "stream",
     "text": [
      "Espectrogramas guardados exitosamente\n",
      "Espectrogramas guardados exitosamente\n",
      "Espectrogramas guardados exitosamente\n",
      "Espectrogramas guardados exitosamente\n"
     ]
    },
    {
     "data": {
      "text/plain": [
       "'chromas_power_au.pkl'"
      ]
     },
     "execution_count": 26,
     "metadata": {},
     "output_type": "execute_result"
    }
   ],
   "source": [
    "save_spectrograms(res_chroma_m,'chromas_magnitud_res_au','')\n",
    "save_spectrograms(res_chroma_p,'chromas_power_res_au','')\n",
    "save_spectrograms(chromas_m,'chromas_magnitud_au','')\n",
    "save_spectrograms(chromas_p,'chromas_power_au','')"
   ]
  },
  {
   "cell_type": "code",
   "execution_count": 35,
   "metadata": {},
   "outputs": [
    {
     "data": {
      "text/html": [
       "<div>\n",
       "<style scoped>\n",
       "    .dataframe tbody tr th:only-of-type {\n",
       "        vertical-align: middle;\n",
       "    }\n",
       "\n",
       "    .dataframe tbody tr th {\n",
       "        vertical-align: top;\n",
       "    }\n",
       "\n",
       "    .dataframe thead th {\n",
       "        text-align: right;\n",
       "    }\n",
       "</style>\n",
       "<table border=\"1\" class=\"dataframe\">\n",
       "  <thead>\n",
       "    <tr style=\"text-align: right;\">\n",
       "      <th></th>\n",
       "      <th>musicId</th>\n",
       "      <th>fileName</th>\n",
       "      <th>title</th>\n",
       "      <th>artist</th>\n",
       "      <th>album</th>\n",
       "      <th>duration</th>\n",
       "      <th>chorus_start_time</th>\n",
       "      <th>chorus_end_time</th>\n",
       "    </tr>\n",
       "  </thead>\n",
       "  <tbody>\n",
       "    <tr>\n",
       "      <th>62</th>\n",
       "      <td>75</td>\n",
       "      <td>75.mp3</td>\n",
       "      <td>Rabbit Hole</td>\n",
       "      <td>Blink-182</td>\n",
       "      <td>Rabbit Hole</td>\n",
       "      <td>22.1</td>\n",
       "      <td>01:46</td>\n",
       "      <td>02:06</td>\n",
       "    </tr>\n",
       "  </tbody>\n",
       "</table>\n",
       "</div>"
      ],
      "text/plain": [
       "    musicId fileName        title     artist        album  duration  \\\n",
       "62       75   75.mp3  Rabbit Hole  Blink-182  Rabbit Hole      22.1   \n",
       "\n",
       "   chorus_start_time chorus_end_time  \n",
       "62             01:46           02:06  "
      ]
     },
     "metadata": {},
     "output_type": "display_data"
    },
    {
     "data": {
      "text/plain": [
       "'E:\\\\python_proy\\\\mer\\\\assets\\\\PMEMO\\\\PMEmo2019\\\\chorus\\\\augmented\\\\75_tst2.mp3'"
      ]
     },
     "metadata": {},
     "output_type": "display_data"
    }
   ],
   "source": [
    "rnd_idx = np.random.randint(0,len(labels_df))\n",
    "music_idx = labels_df.iloc[rnd_idx].musicId\n",
    "display(pmemo_meta.loc[pmemo_meta['musicId'] == music_idx])\n",
    "display(labels_df.iloc[rnd_idx].audioDir)"
   ]
  },
  {
   "cell_type": "code",
   "execution_count": 47,
   "metadata": {},
   "outputs": [
    {
     "name": "stdout",
     "output_type": "stream",
     "text": [
      "Entrenamiento: 2761\n",
      "Validación: 920\n",
      "Pruebas: 921\n"
     ]
    }
   ],
   "source": [
    "indices = np.arange(len(labels_df))\n",
    "\n",
    "np.random.shuffle(indices)\n",
    "\n",
    "# Calcula los tamaños para cada conjunto\n",
    "train_size = int(0.6 * len(indices))\n",
    "val_size = int(0.2 * len(indices))\n",
    "test_size = len(indices) - train_size - val_size  # Para asegurar que se cubre todo\n",
    "\n",
    "\n",
    "# Divide el array en entrenamiento, validación y prueba\n",
    "train_indices = indices[:train_size]\n",
    "val_indices = indices[train_size:train_size + val_size]\n",
    "test_indices = indices[train_size + val_size:]\n",
    "\n",
    "print(f\"Entrenamiento: {len(train_indices)}\")\n",
    "print(f\"Validación: {len(val_indices)}\")\n",
    "print(f\"Pruebas: {len(test_indices)}\")"
   ]
  },
  {
   "cell_type": "code",
   "execution_count": 48,
   "metadata": {},
   "outputs": [
    {
     "name": "stdout",
     "output_type": "stream",
     "text": [
      "[[0.4    0.575 ]\n",
      " [0.4    0.575 ]\n",
      " [0.4    0.575 ]\n",
      " ...\n",
      " [0.6625 0.575 ]\n",
      " [0.6625 0.575 ]\n",
      " [0.6625 0.575 ]]\n"
     ]
    }
   ],
   "source": [
    "labels = labels_df[['Arousal','Valence']].values\n",
    "\n",
    "print(labels)"
   ]
  },
  {
   "cell_type": "code",
   "execution_count": 51,
   "metadata": {},
   "outputs": [
    {
     "name": "stdout",
     "output_type": "stream",
     "text": [
      "Datos de entrenamiento shape: (2761, 224, 224, 3)\n",
      "Etiquetas de entrenamiento shape: (2761, 2)\n",
      "Datos de pruebas shape: (921, 224, 224, 3)\n",
      "Etiquetas de pruebas shape: (921, 2)\n",
      "Datos de validación shape: (920, 224, 224, 3)\n",
      "Etiquetas de validación shape: (920, 2)\n"
     ]
    }
   ],
   "source": [
    "X_train = []\n",
    "y_train = []\n",
    "for idx in train_indices:\n",
    "    X_train.append(res_chroma_m[idx])\n",
    "    y_train.append(labels[idx])\n",
    "\n",
    "X_train = np.array(X_train)\n",
    "y_train = np.array(y_train)\n",
    "\n",
    "X_val = []\n",
    "y_val = []\n",
    "for idx in val_indices:\n",
    "    X_val.append(res_chroma_m[idx])\n",
    "    y_val.append(labels[idx])\n",
    "X_val = np.array(X_val)\n",
    "y_val = np.array(y_val)\n",
    "\n",
    "X_test = []\n",
    "y_test = []\n",
    "for idx in test_indices:\n",
    "    X_test.append(res_chroma_m[idx])\n",
    "    y_test.append(labels[idx])\n",
    "\n",
    "X_test = np.array(X_test)\n",
    "y_test = np.array(y_test)\n",
    "\n",
    "print(f'Datos de entrenamiento shape: {X_train.shape}')\n",
    "print(f'Etiquetas de entrenamiento shape: {y_train.shape}')\n",
    "\n",
    "print(f'Datos de pruebas shape: {X_test.shape}')\n",
    "print(f'Etiquetas de pruebas shape: {y_test.shape}')\n",
    "\n",
    "print(f'Datos de validación shape: {X_val.shape}')\n",
    "print(f'Etiquetas de validación shape: {y_val.shape}')"
   ]
  },
  {
   "cell_type": "code",
   "execution_count": 55,
   "metadata": {},
   "outputs": [],
   "source": [
    "# Guardar los datos en un archivo .h5\n",
    "DATOS_DIR = os.path.join(ASSETS_DIR,'chr_res_aug_m.h5')\n",
    "\n",
    "with h5py.File(DATOS_DIR, 'w') as hf:\n",
    "    hf.create_dataset('X_train', data=X_train)\n",
    "    hf.create_dataset('X_test', data=X_test)\n",
    "    hf.create_dataset('X_val', data=X_val)\n",
    "    hf.create_dataset('y_train', data=y_train)\n",
    "    hf.create_dataset('y_test', data=y_test)\n",
    "    hf.create_dataset('y_val', data=y_val)"
   ]
  }
 ],
 "metadata": {
  "kernelspec": {
   "display_name": "mirtools",
   "language": "python",
   "name": "python3"
  },
  "language_info": {
   "codemirror_mode": {
    "name": "ipython",
    "version": 3
   },
   "file_extension": ".py",
   "mimetype": "text/x-python",
   "name": "python",
   "nbconvert_exporter": "python",
   "pygments_lexer": "ipython3",
   "version": "3.8.19"
  }
 },
 "nbformat": 4,
 "nbformat_minor": 2
}
